{
  "cells": [
    {
      "cell_type": "markdown",
      "metadata": {
        "id": "vyI67Vu49Nh1"
      },
      "source": [
        "# Quantization of pre-trained Image Transformers"
      ]
    },
    {
      "cell_type": "markdown",
      "metadata": {
        "id": "cR2odAzTxmq6"
      },
      "source": [
        "This notebook tries to establish a baseline with different quantization techniques as well as visualizations.\n",
        "\n",
        "* [SegFormer Part 3, Quantization Description](https://qte77.github.io/SegFormer-Part3-Quantization-Description/)\n",
        "* [SegFormer Part 4, Quantization Difficulties and Errors Part 1](https://qte77.github.io/SegFormer-Part4-Quantization-Difficulties-Part1/)"
      ]
    },
    {
      "cell_type": "markdown",
      "metadata": {
        "id": "hJ0IIC4J3std"
      },
      "source": [
        "# Prelims"
      ]
    },
    {
      "cell_type": "code",
      "source": [
        "try:\n",
        "  from google.colab import drive\n",
        "  google_colab = True\n",
        "except ImportError:\n",
        "  from os.path import basename\n",
        "  google_colab = False"
      ],
      "metadata": {
        "id": "VQCPMQJv_coB"
      },
      "execution_count": 1,
      "outputs": []
    },
    {
      "cell_type": "markdown",
      "metadata": {
        "id": "Z0h5ixf4gtpn"
      },
      "source": [
        "## Params"
      ]
    },
    {
      "cell_type": "code",
      "execution_count": 2,
      "metadata": {
        "id": "E5genFq6GTXm"
      },
      "outputs": [],
      "source": [
        "project_name = \"SegFormer\"\n",
        "nb_name = \"hf_segformer_quant_PoC.ipynb\""
      ]
    },
    {
      "cell_type": "code",
      "execution_count": 3,
      "metadata": {
        "id": "5WMEawzyCEyG"
      },
      "outputs": [],
      "source": [
        "model_checkpoints = {\n",
        "    # \"swintiny\": \"microsoft/swin-tiny-patch4-window7-224\", # not implemented\n",
        "    # \"b0ade\": \"nvidia/segformer-b0-finetuned-ade-512-512\", # not implemented\n",
        "    \"b0\": \"nvidia/mit-b0\"\n",
        "}\n",
        "# tasks = [\"classification\", \"segmentation\"] # not implemented"
      ]
    },
    {
      "cell_type": "code",
      "execution_count": 4,
      "metadata": {
        "id": "TvesRb1cGtWq"
      },
      "outputs": [],
      "source": [
        "dataset_url = \"http://madm.dfki.de/files/sentinel/EuroSAT.zip\"\n",
        "ds_num_shards = 1000 # higher faster"
      ]
    },
    {
      "cell_type": "code",
      "execution_count": 5,
      "metadata": {
        "id": "p9dMyptFGLdh"
      },
      "outputs": [],
      "source": [
        "batch_size = 32\n",
        "num_train_epochs = 10\n",
        "metric_to_load = \"accuracy\" # accuracy for cls, mean_iou for seg\n",
        "test_calculation_speed = True"
      ]
    },
    {
      "cell_type": "markdown",
      "source": [
        "## Param prep"
      ],
      "metadata": {
        "id": "pIKCIRiSAcUq"
      }
    },
    {
      "cell_type": "code",
      "source": [
        "model_checkpoint = model_checkpoints['b0']\n",
        "model_name = model_checkpoint.split(\"/\")[-1]\n",
        "dataset_name = dataset_url.split(\"/\")[-1].split(\".\")[0]"
      ],
      "metadata": {
        "id": "zeTSq7RL_lvE"
      },
      "execution_count": 6,
      "outputs": []
    },
    {
      "cell_type": "code",
      "source": [
        "from pathlib import Path\n",
        "if google_colab:\n",
        "  MNT_PATH = Path(\"/content/drive\")\n",
        "  SAVE_PATH = MNT_PATH / \"MyDrive\"\n",
        "  NB_PATH = SAVE_PATH / \"Colab Notebooks\"\n",
        "  nb_name = \"hf_segformer_quant_PoC.ipynb\"\n",
        "else:\n",
        "  SAVE_PATH = Path(\".\")\n",
        "  NB_PATH = Path(\".\")\n",
        "  nb_name = basename(__file__)"
      ],
      "metadata": {
        "id": "hM-oLGL5AllD"
      },
      "execution_count": 7,
      "outputs": []
    },
    {
      "cell_type": "code",
      "execution_count": 8,
      "metadata": {
        "id": "tAVfROHNGyXK"
      },
      "outputs": [],
      "source": [
        "NB_PATH = NB_PATH / f\"{project_name}/PoC\"\n",
        "DS_PATH = SAVE_PATH / f\"Datasets/{dataset_name}\"\n",
        "MODEL_PATH = SAVE_PATH / f\"Models/{model_checkpoint}\"\n",
        "TOK_PATH = SAVE_PATH / f\"Tokenizer/{model_checkpoint}\"\n",
        "PY_PATH = NB_PATH / \"utils\"\n",
        "REQS_PATH = NB_PATH / \"reqs\""
      ]
    },
    {
      "cell_type": "code",
      "source": [
        "if google_colab: drive.mount(str(MNT_PATH))\n",
        "NB_PATH.mkdir(parents=True, exist_ok=True)"
      ],
      "metadata": {
        "colab": {
          "base_uri": "https://localhost:8080/"
        },
        "id": "wgDMowNFBdUQ",
        "outputId": "dae13a2c-7475-4029-99cd-c82570965e2f"
      },
      "execution_count": 9,
      "outputs": [
        {
          "output_type": "stream",
          "name": "stdout",
          "text": [
            "Mounted at /content/drive\n"
          ]
        }
      ]
    },
    {
      "cell_type": "markdown",
      "metadata": {
        "id": "q2JhoiZqgvIK"
      },
      "source": [
        "## Imports"
      ]
    },
    {
      "cell_type": "code",
      "execution_count": 12,
      "metadata": {
        "id": "lM3JBl7FTduS",
        "colab": {
          "base_uri": "https://localhost:8080/"
        },
        "outputId": "bfa65abe-3ad2-4c28-893b-322d6f82a9b5"
      },
      "outputs": [
        {
          "output_type": "stream",
          "name": "stdout",
          "text": [
            "  Preparing metadata (setup.py) ... \u001b[?25l\u001b[?25hdone\n",
            "\u001b[2K     \u001b[90m━━━━━━━━━━━━━━━━━━━━━━━━━━━━━━━━━━━━━━━━\u001b[0m \u001b[32m21.3/21.3 MB\u001b[0m \u001b[31m73.6 MB/s\u001b[0m eta \u001b[36m0:00:00\u001b[0m\n",
            "\u001b[?25h  Building wheel for datasize (setup.py) ... \u001b[?25l\u001b[?25hdone\n"
          ]
        }
      ],
      "source": [
        "for req in [\"requirements_quant.txt\"]: #, \"requirements_jupymill.txt\"]:\n",
        "  req_file = REQS_PATH / req\n",
        "  assert req_file.exists(), \"Not Again!\"\n",
        "  %pip install -qqr \"{req_file}\""
      ]
    },
    {
      "cell_type": "code",
      "execution_count": 13,
      "metadata": {
        "id": "wqVYtuJKvFq_"
      },
      "outputs": [],
      "source": [
        "# huggingface\n",
        "from datasets import load_dataset, load_from_disk\n",
        "from evaluate import load\n",
        "from transformers.trainer_utils import EvalPrediction\n",
        "from transformers import (\n",
        "  AutoImageProcessor,\n",
        "  # SegformerForSemanticSegmentation,\n",
        "  SegformerForImageClassification,\n",
        "  TrainingArguments,\n",
        "  Trainer\n",
        ")"
      ]
    },
    {
      "cell_type": "code",
      "execution_count": 14,
      "metadata": {
        "id": "PsfJ0b4zsQdC"
      },
      "outputs": [],
      "source": [
        "# tensor\n",
        "from numpy import argmax\n",
        "from torchinfo import summary\n",
        "from torch import (\n",
        "    ge, zeros,\n",
        "    stack, tensor, where,\n",
        "    device, no_grad # autograd.grad_mode\n",
        ")\n",
        "# from torch.optim import AdamW\n",
        "from torchvision.transforms import (\n",
        "  CenterCrop,\n",
        "  Compose,\n",
        "  Normalize,\n",
        "  RandomHorizontalFlip,\n",
        "  RandomResizedCrop,\n",
        "  Resize,\n",
        "  ToTensor,\n",
        ")"
      ]
    },
    {
      "cell_type": "code",
      "execution_count": 15,
      "metadata": {
        "id": "VEDWAPDWrdLY"
      },
      "outputs": [],
      "source": [
        "# quantization\n",
        "import accelerate\n",
        "import bitsandbytes"
      ]
    },
    {
      "cell_type": "code",
      "execution_count": 16,
      "metadata": {
        "id": "jNBn8O-7-2i6"
      },
      "outputs": [],
      "source": [
        "from random import randrange\n",
        "from os import chdir # , listdir"
      ]
    },
    {
      "cell_type": "markdown",
      "metadata": {
        "id": "_wuAD2SU918u"
      },
      "source": [
        "### Custom utils"
      ]
    },
    {
      "cell_type": "code",
      "execution_count": 17,
      "metadata": {
        "id": "grDmO2xn3F7E"
      },
      "outputs": [],
      "source": [
        "chdir(PY_PATH)\n",
        "from utils import (\n",
        "    get_device_info, get_calculation_speed,\n",
        "    get_split_dataset, get_image_processor,\n",
        "    get_model_as_dict, print_models_stats\n",
        ")"
      ]
    },
    {
      "cell_type": "markdown",
      "metadata": {
        "id": "vqMh86n13gTW"
      },
      "source": [
        "## Device"
      ]
    },
    {
      "cell_type": "code",
      "execution_count": 24,
      "metadata": {
        "id": "P8RB93D-3NN1"
      },
      "outputs": [],
      "source": [
        "deviceinfo = get_device_info()\n",
        "assert str(deviceinfo['devicename'].type) == \"cuda\", \"GPU needed for quantization\""
      ]
    },
    {
      "cell_type": "code",
      "execution_count": 26,
      "metadata": {
        "colab": {
          "base_uri": "https://localhost:8080/"
        },
        "id": "yPcvHrz9N2e9",
        "outputId": "c58f3dfb-4a6f-4413-f408-1904553d6519"
      },
      "outputs": [
        {
          "output_type": "stream",
          "name": "stdout",
          "text": [
            "cpu max memory: {'cpu': '12GiB'}\n",
            "Sat Jun  1 23:55:12 2024       \n",
            "+---------------------------------------------------------------------------------------+\n",
            "| NVIDIA-SMI 535.104.05             Driver Version: 535.104.05   CUDA Version: 12.2     |\n",
            "|-----------------------------------------+----------------------+----------------------+\n",
            "| GPU  Name                 Persistence-M | Bus-Id        Disp.A | Volatile Uncorr. ECC |\n",
            "| Fan  Temp   Perf          Pwr:Usage/Cap |         Memory-Usage | GPU-Util  Compute M. |\n",
            "|                                         |                      |               MIG M. |\n",
            "|=========================================+======================+======================|\n",
            "|   0  Tesla T4                       Off | 00000000:00:04.0 Off |                    0 |\n",
            "| N/A   48C    P0              27W /  70W |    103MiB / 15360MiB |      0%      Default |\n",
            "|                                         |                      |                  N/A |\n",
            "+-----------------------------------------+----------------------+----------------------+\n",
            "                                                                                         \n",
            "+---------------------------------------------------------------------------------------+\n",
            "| Processes:                                                                            |\n",
            "|  GPU   GI   CI        PID   Type   Process name                            GPU Memory |\n",
            "|        ID   ID                                                             Usage      |\n",
            "|=======================================================================================|\n",
            "+---------------------------------------------------------------------------------------+\n",
            "cuda allocated memory: 14\n",
            "cuda max memory: {0: '14GiB'}\n"
          ]
        }
      ],
      "source": [
        "print(\"cpu max memory: %s\" % deviceinfo[\"cpu_max_memory\"])\n",
        "if deviceinfo[\"devicename\"].type == \"cuda\":\n",
        "  !nvidia-smi\n",
        "  print(\"cuda allocated memory: %s\" % deviceinfo[\"cuda_free_mem\"])\n",
        "  print(\"cuda max memory: %s\" % deviceinfo[\"cuda_max_memory\"])"
      ]
    },
    {
      "cell_type": "markdown",
      "metadata": {
        "id": "qtLMX51KDgt4"
      },
      "source": [
        "## Test calculation speed of dtypes"
      ]
    },
    {
      "cell_type": "code",
      "execution_count": 27,
      "metadata": {
        "colab": {
          "base_uri": "https://localhost:8080/"
        },
        "id": "HfjHE85VMsFQ",
        "outputId": "ce44685d-df13-46d2-f978-e9a9af55f49b"
      },
      "outputs": [
        {
          "output_type": "stream",
          "name": "stdout",
          "text": [
            "dev='cuda'\n",
            "torch.float64\n",
            "mean: 0.013322, stdev: 0.031870\n",
            "torch.float32\n",
            "mean: 0.001401, stdev: 0.000248\n",
            "torch.float16\n",
            "mean: 0.004340, stdev: 0.002591\n",
            "torch.bfloat16\n",
            "mean: 0.002294, stdev: 0.000700\n",
            "torch.int8\n",
            "mean: 0.002348, stdev: 0.000415\n",
            "torch.uint8\n",
            "mean: 0.001587, stdev: 0.000835\n",
            "torch.bool\n",
            "mean: 0.008322, stdev: 0.016917\n",
            "dev='cpu'\n",
            "torch.float64\n",
            "mean: 0.069717, stdev: 0.019679\n",
            "torch.float32\n",
            "mean: 0.034468, stdev: 0.001326\n",
            "torch.float16\n",
            "mean: 0.371218, stdev: 0.008270\n",
            "torch.bfloat16\n",
            "mean: 0.016542, stdev: 0.000850\n",
            "torch.int8\n",
            "mean: 0.249495, stdev: 0.004037\n",
            "torch.uint8\n",
            "mean: 0.198126, stdev: 0.047961\n",
            "torch.bool\n",
            "mean: 0.949305, stdev: 0.234613\n"
          ]
        }
      ],
      "source": [
        "# https://pytorch.org/docs/stable/tensor_attributes.html#torch.dtype\n",
        "if test_calculation_speed:\n",
        "  timings = get_calculation_speed(deviceinfo[\"devicename\"].type, tee=True)"
      ]
    },
    {
      "cell_type": "markdown",
      "metadata": {
        "id": "RejTegpKW6pe"
      },
      "source": [
        "# Dataset"
      ]
    },
    {
      "cell_type": "code",
      "execution_count": 28,
      "metadata": {
        "id": "c8b9EfVfiSjv"
      },
      "outputs": [],
      "source": [
        "dataset = get_split_dataset(str(DS_PATH), dataset_url)"
      ]
    },
    {
      "cell_type": "code",
      "execution_count": 29,
      "metadata": {
        "colab": {
          "base_uri": "https://localhost:8080/"
        },
        "id": "6D3I1wcGlH-l",
        "outputId": "7ff13795-656b-4bb8-e055-912cfa909464"
      },
      "outputs": [
        {
          "output_type": "execute_result",
          "data": {
            "text/plain": [
              "{'train': Dataset({\n",
              "     features: ['image', 'label'],\n",
              "     num_rows: 24300\n",
              " }),\n",
              " 'test': Dataset({\n",
              "     features: ['image', 'label'],\n",
              "     num_rows: 2700\n",
              " })}"
            ]
          },
          "metadata": {},
          "execution_count": 29
        }
      ],
      "source": [
        "dataset"
      ]
    },
    {
      "cell_type": "code",
      "execution_count": 30,
      "metadata": {
        "colab": {
          "base_uri": "https://localhost:8080/"
        },
        "id": "BnnL3yHBI7Z3",
        "outputId": "603ea17d-32d2-45cd-961d-805c649c239c"
      },
      "outputs": [
        {
          "output_type": "execute_result",
          "data": {
            "text/plain": [
              "{'image': Image(mode=None, decode=True, id=None),\n",
              " 'label': ClassLabel(names=['AnnualCrop', 'Forest', 'HerbaceousVegetation', 'Highway', 'Industrial', 'Pasture', 'PermanentCrop', 'Residential', 'River', 'SeaLake'], id=None)}"
            ]
          },
          "metadata": {},
          "execution_count": 30
        }
      ],
      "source": [
        "dataset[\"train\"].features"
      ]
    },
    {
      "cell_type": "code",
      "execution_count": 31,
      "metadata": {
        "colab": {
          "base_uri": "https://localhost:8080/"
        },
        "id": "BujWoSgyMQlw",
        "outputId": "198d2eda-8d8b-4dbf-afa0-bb72f5c28f44"
      },
      "outputs": [
        {
          "output_type": "execute_result",
          "data": {
            "text/plain": [
              "{'image': <PIL.JpegImagePlugin.JpegImageFile image mode=RGB size=64x64>,\n",
              " 'label': 8}"
            ]
          },
          "metadata": {},
          "execution_count": 31
        }
      ],
      "source": [
        "example = dataset[\"train\"][10]\n",
        "example"
      ]
    },
    {
      "cell_type": "code",
      "execution_count": 32,
      "metadata": {
        "colab": {
          "base_uri": "https://localhost:8080/",
          "height": 81
        },
        "id": "32iolZyTkNlI",
        "outputId": "dd13d6d9-0a72-4cf7-eb59-166912a803c1"
      },
      "outputs": [
        {
          "output_type": "execute_result",
          "data": {
            "text/plain": [
              "<PIL.JpegImagePlugin.JpegImageFile image mode=RGB size=64x64>"
            ],
            "image/png": "[encoded data removed]"
          },
          "metadata": {},
          "execution_count": 32
        }
      ],
      "source": [
        "example['image']"
      ]
    },
    {
      "cell_type": "code",
      "execution_count": 33,
      "metadata": {
        "colab": {
          "base_uri": "https://localhost:8080/"
        },
        "id": "WdTU9jGCxwFr",
        "outputId": "4aa51757-e27c-4316-c7cf-41425bc3e976"
      },
      "outputs": [
        {
          "output_type": "execute_result",
          "data": {
            "text/plain": [
              "8"
            ]
          },
          "metadata": {},
          "execution_count": 33
        }
      ],
      "source": [
        "example['label']"
      ]
    },
    {
      "cell_type": "markdown",
      "metadata": {
        "id": "4zxoikSOjs0K"
      },
      "source": [
        "### Preprocessing the data"
      ]
    },
    {
      "cell_type": "code",
      "execution_count": 34,
      "metadata": {
        "colab": {
          "base_uri": "https://localhost:8080/",
          "height": 903,
          "referenced_widgets": [
            "dfce962706e24afe81781c4f5091cff8",
            "046aeb5263894aef869c4a5135435e07",
            "221c7ef23dee468c83311effa4dd09a6",
            "b5e81ab0fcf94bca9661d9900ed6d431",
            "da115ca74b324d0195f0976eecf6f3ae",
            "7caa6e86a7614d4c992f1b499fcdfad4",
            "d3b68a2b719c4ba59d0f487490ccd4b8",
            "054ce59838ca46008d3125035ca492a7",
            "840ce6bda776402b9e7d261fb4cd334a",
            "66078775319e4958971cf70ca871656a",
            "8d0ad4c18aaf4d179f66cefed2dae9ce"
          ]
        },
        "id": "G1bX4lGAO_d9",
        "outputId": "a403725e-554c-43e2-e18c-5b43ff880c7e"
      },
      "outputs": [
        {
          "output_type": "stream",
          "name": "stdout",
          "text": [
            "Loading from /content/drive/MyDrive/Tokenizer/nvidia/mit-b0.\n"
          ]
        },
        {
          "output_type": "stream",
          "name": "stderr",
          "text": [
            "/usr/local/lib/python3.10/dist-packages/huggingface_hub/utils/_token.py:89: UserWarning: \n",
            "The secret `HF_TOKEN` does not exist in your Colab secrets.\n",
            "To authenticate with the Hugging Face Hub, create a token in your settings tab (https://huggingface.co/settings/tokens), set it as secret in your Google Colab and restart your session.\n",
            "You will be able to reuse this secret in all of your notebooks.\n",
            "Please note that authentication is recommended but still optional to access public models or datasets.\n",
            "  warnings.warn(\n"
          ]
        },
        {
          "output_type": "display_data",
          "data": {
            "text/plain": [
              "preprocessor_config.json:   0%|          | 0.00/272 [00:00<?, ?B/s]"
            ],
            "application/vnd.jupyter.widget-view+json": {
              "version_major": 2,
              "version_minor": 0,
              "model_id": "dfce962706e24afe81781c4f5091cff8"
            }
          },
          "metadata": {}
        },
        {
          "output_type": "stream",
          "name": "stderr",
          "text": [
            "/usr/local/lib/python3.10/dist-packages/transformers/models/segformer/image_processing_segformer.py:103: FutureWarning: The `reduce_labels` parameter is deprecated and will be removed in a future version. Please use `do_reduce_labels` instead.\n",
            "  warnings.warn(\n"
          ]
        },
        {
          "output_type": "execute_result",
          "data": {
            "text/plain": [
              "SegformerImageProcessor {\n",
              "  \"_valid_processor_keys\": [\n",
              "    \"images\",\n",
              "    \"segmentation_maps\",\n",
              "    \"do_resize\",\n",
              "    \"size\",\n",
              "    \"resample\",\n",
              "    \"do_rescale\",\n",
              "    \"rescale_factor\",\n",
              "    \"do_normalize\",\n",
              "    \"image_mean\",\n",
              "    \"image_std\",\n",
              "    \"do_reduce_labels\",\n",
              "    \"return_tensors\",\n",
              "    \"data_format\",\n",
              "    \"input_data_format\"\n",
              "  ],\n",
              "  \"do_normalize\": true,\n",
              "  \"do_reduce_labels\": false,\n",
              "  \"do_rescale\": true,\n",
              "  \"do_resize\": true,\n",
              "  \"image_mean\": [\n",
              "    0.485,\n",
              "    0.456,\n",
              "    0.406\n",
              "  ],\n",
              "  \"image_processor_type\": \"SegformerImageProcessor\",\n",
              "  \"image_std\": [\n",
              "    0.229,\n",
              "    0.224,\n",
              "    0.225\n",
              "  ],\n",
              "  \"resample\": 2,\n",
              "  \"rescale_factor\": 0.00392156862745098,\n",
              "  \"size\": {\n",
              "    \"height\": 512,\n",
              "    \"width\": 512\n",
              "  }\n",
              "}"
            ]
          },
          "metadata": {},
          "execution_count": 34
        }
      ],
      "source": [
        "image_processor = get_image_processor(model_checkpoint, TOK_PATH)\n",
        "image_processor"
      ]
    },
    {
      "cell_type": "code",
      "execution_count": 35,
      "metadata": {
        "id": "4O_p3WrpRyej"
      },
      "outputs": [],
      "source": [
        "# on-the-fly image preparation and augmentation with <dataset>.set_transform(<transform_fn>)\n",
        "# https://colab.research.google.com/github/huggingface/notebooks/blob/main/examples/image_classification.ipynb\n",
        "normalize = Normalize(mean=image_processor.image_mean, std=image_processor.image_std)\n",
        "if \"height\" in image_processor.size:\n",
        "    size = (image_processor.size[\"height\"], image_processor.size[\"width\"])\n",
        "    crop_size = size\n",
        "    max_size = None\n",
        "elif \"shortest_edge\" in image_processor.size:\n",
        "    size = image_processor.size[\"shortest_edge\"]\n",
        "    crop_size = (size, size)\n",
        "    max_size = image_processor.size.get(\"longest_edge\")\n",
        "\n",
        "train_transforms = Compose(\n",
        "        [\n",
        "            RandomResizedCrop(crop_size),\n",
        "            RandomHorizontalFlip(),\n",
        "            ToTensor(),\n",
        "            normalize,\n",
        "        ]\n",
        "    )\n",
        "\n",
        "val_transforms = Compose(\n",
        "        [\n",
        "            Resize(size),\n",
        "            CenterCrop(crop_size),\n",
        "            ToTensor(),\n",
        "            normalize,\n",
        "        ]\n",
        "    )\n",
        "\n",
        "def preprocess_train(example_batch):\n",
        "    \"\"\"Apply train_transforms across a batch.\"\"\"\n",
        "    example_batch[\"pixel_values\"] = [\n",
        "        train_transforms(image.convert(\"RGB\")) for image in example_batch[\"image\"]\n",
        "    ]\n",
        "    return example_batch\n",
        "\n",
        "def preprocess_val(example_batch):\n",
        "    \"\"\"Apply val_transforms across a batch.\"\"\"\n",
        "    example_batch[\"pixel_values\"] = [\n",
        "        val_transforms(image.convert(\"RGB\")) for image in example_batch[\"image\"]\n",
        "    ]\n",
        "    return example_batch\n",
        "\n",
        "dataset[\"train\"].set_transform(preprocess_train)\n",
        "dataset[\"test\"].set_transform(preprocess_val)"
      ]
    },
    {
      "cell_type": "code",
      "execution_count": 36,
      "metadata": {
        "colab": {
          "base_uri": "https://localhost:8080/"
        },
        "id": "Ng9TAlDV8d7r",
        "outputId": "58d65a54-d1c5-4d22-f836-00b8705a3e79"
      },
      "outputs": [
        {
          "output_type": "execute_result",
          "data": {
            "text/plain": [
              "dict_keys(['image', 'label', 'pixel_values'])"
            ]
          },
          "metadata": {},
          "execution_count": 36
        }
      ],
      "source": [
        "dataset[\"train\"][0].keys()"
      ]
    },
    {
      "cell_type": "markdown",
      "metadata": {
        "id": "7Flu05Cat0lH"
      },
      "source": [
        "## Ids and labels"
      ]
    },
    {
      "cell_type": "code",
      "execution_count": 37,
      "metadata": {
        "colab": {
          "base_uri": "https://localhost:8080/"
        },
        "id": "kLhvKF3HtixI",
        "outputId": "daa77452-05a7-4687-c32b-ec713ad3ad9c"
      },
      "outputs": [
        {
          "output_type": "execute_result",
          "data": {
            "text/plain": [
              "{0: 'AnnualCrop',\n",
              " 1: 'Forest',\n",
              " 2: 'HerbaceousVegetation',\n",
              " 3: 'Highway',\n",
              " 4: 'Industrial',\n",
              " 5: 'Pasture',\n",
              " 6: 'PermanentCrop',\n",
              " 7: 'Residential',\n",
              " 8: 'River',\n",
              " 9: 'SeaLake'}"
            ]
          },
          "metadata": {},
          "execution_count": 37
        }
      ],
      "source": [
        "labels = dataset[\"train\"].features[\"label\"].names\n",
        "id2label = {k:v for k,v in enumerate(labels)}\n",
        "label2id = {v:k for k,v in enumerate(labels)}\n",
        "id2label"
      ]
    },
    {
      "cell_type": "markdown",
      "metadata": {
        "id": "s6FYt16Bs3W7"
      },
      "source": [
        "# Metric"
      ]
    },
    {
      "cell_type": "code",
      "execution_count": 38,
      "metadata": {
        "colab": {
          "base_uri": "https://localhost:8080/",
          "height": 49,
          "referenced_widgets": [
            "e91b94d1a1dc41998529c983a01dab7c",
            "8816d62ea0124d46b1932bc9b2921f29",
            "b86946829e6341368ebf0c37fbabafad",
            "d10a90251aa8445faaa4aba40c84b235",
            "7584d43776e24d3dab5795bddcb3f942",
            "ca6a94a106a8466a91686972c8d71167",
            "f356ff81304c4aabb922a20035abe05e",
            "e53de61b23284497bc755e459662cdf1",
            "1dd1f0a4f7c546b7a1502b2709cf2b2a",
            "4ba4be0e45b848568b403ec67a8bd580",
            "f7528b6eeb8a428b99ab0f1381113f2e"
          ]
        },
        "id": "8UGse36eLeeb",
        "outputId": "f83bb5bb-a87c-4b63-b77c-cdc06477ec6a"
      },
      "outputs": [
        {
          "output_type": "display_data",
          "data": {
            "text/plain": [
              "Downloading builder script:   0%|          | 0.00/4.20k [00:00<?, ?B/s]"
            ],
            "application/vnd.jupyter.widget-view+json": {
              "version_major": 2,
              "version_minor": 0,
              "model_id": "e91b94d1a1dc41998529c983a01dab7c"
            }
          },
          "metadata": {}
        }
      ],
      "source": [
        "metric = load(metric_to_load)"
      ]
    },
    {
      "cell_type": "code",
      "execution_count": 39,
      "metadata": {
        "id": "EVWfiBuv2uCS"
      },
      "outputs": [],
      "source": [
        "# the compute_metrics function takes a Named Tuple as input:\n",
        "# predictions, which are the logits of the model as Numpy arrays,\n",
        "# and label_ids, which are the ground-truth labels as Numpy arrays.\n",
        "def compute_metrics(eval_pred: EvalPrediction) -> dict:\n",
        "    \"\"\"Computes accuracy on a batch of predictions\"\"\"\n",
        "    predictions = argmax(eval_pred.predictions, axis=1)\n",
        "    return  metric.compute(\n",
        "      predictions=predictions,\n",
        "      references=eval_pred.label_ids\n",
        "    )"
      ]
    },
    {
      "cell_type": "markdown",
      "metadata": {
        "id": "8PccZO_PtgWn"
      },
      "source": [
        "# Model"
      ]
    },
    {
      "cell_type": "markdown",
      "metadata": {
        "id": "a0YbSq3L9zof"
      },
      "source": [
        "## Load versions for QAT and compare SPACE/TIME"
      ]
    },
    {
      "cell_type": "markdown",
      "metadata": {
        "id": "UKPDnGXvSP-R"
      },
      "source": [
        "### 8-bit quantization with bitsandbytes\n",
        "\n",
        "From [LLM.int8() Paper](https://arxiv.org/abs/2110.02861), [Source GH](https://github.com/TimDettmers/bitsandbytes).\n",
        "[8-bit HF inference example](https://github.com/TimDettmers/bitsandbytes/blob/main/examples/int8_inference_huggingface.py)\n",
        "\n",
        "* optimizer\n",
        "  * `bnb.optim.Adam8bit(....)`\n",
        "  * `bnb.nn.Embedding(..)`\n",
        "* inference\n",
        "  * `linear = bnb.nn.Linear8bitLt(...)`\n",
        "  * Modes: mixed-precision, int8\n",
        "  * or full `LLM.int8()` method\n"
      ]
    },
    {
      "cell_type": "markdown",
      "metadata": {
        "id": "6tV23YL0NygQ"
      },
      "source": [
        "`BitsAndBytesConfig` also offers configuration support.\n",
        "\n",
        "```python\n",
        "from transformers import BitsAndBytesConfig\n",
        "\n",
        "# quantization_config = BitsAndBytesConfig(load_in_4bit=True, bnb_4bit_compute_dtype=bf16)\n",
        "nf4_config = BitsAndBytesConfig(\n",
        "    load_in_4bit=True,\n",
        "    bnb_4bit_quant_type=\"nf4\",\n",
        ")\n",
        "```"
      ]
    },
    {
      "cell_type": "code",
      "execution_count": 40,
      "metadata": {
        "id": "hEfwMQ9BBDZp"
      },
      "outputs": [],
      "source": [
        "models = {\n",
        "    \"model_base\": {\"params\": {}},\n",
        "    \"model_half\": {\"params\": {\"half\": True}},\n",
        "    \"model_int8\": {\"params\": {\"load_in_8bit\": True}},\n",
        "    \"model_int4\": {\"params\": {\"load_in_4bit\": True}},\n",
        "}"
      ]
    },
    {
      "cell_type": "code",
      "source": [
        "deviceinfo"
      ],
      "metadata": {
        "colab": {
          "base_uri": "https://localhost:8080/"
        },
        "id": "lWNoCP1CLxde",
        "outputId": "27ab3c62-aa67-4e7b-b23d-befa855f3803"
      },
      "execution_count": 41,
      "outputs": [
        {
          "output_type": "execute_result",
          "data": {
            "text/plain": [
              "{'devicename': device(type='cuda'),\n",
              " 'cpu_max_memory': {'cpu': '12GiB'},\n",
              " 'cuda_free_mem': 14,\n",
              " 'cuda_n_gpus': 1,\n",
              " 'cuda_max_memory': {0: '14GiB'}}"
            ]
          },
          "metadata": {},
          "execution_count": 41
        }
      ]
    },
    {
      "cell_type": "code",
      "source": [
        "max_memory = {}\n",
        "for k,v in {\n",
        "    **deviceinfo[\"cpu_max_memory\"],\n",
        "    **deviceinfo[\"cuda_max_memory\"] # CUDA as prereq, so no checking\n",
        "  }.items():\n",
        "  v = int(v.replace(\"GiB\", \"\"))-2\n",
        "  max_memory[k] = f\"{v}GiB\"\n",
        "max_memory"
      ],
      "metadata": {
        "colab": {
          "base_uri": "https://localhost:8080/"
        },
        "id": "W-W1V4huul7I",
        "outputId": "9d775f03-9afa-4229-b8cb-da3fa868d0e6"
      },
      "execution_count": 42,
      "outputs": [
        {
          "output_type": "execute_result",
          "data": {
            "text/plain": [
              "{'cpu': '10GiB', 0: '12GiB'}"
            ]
          },
          "metadata": {},
          "execution_count": 42
        }
      ]
    },
    {
      "cell_type": "code",
      "execution_count": 43,
      "metadata": {
        "colab": {
          "base_uri": "https://localhost:8080/",
          "height": 414,
          "referenced_widgets": [
            "b29019a514c84af7be94a658b1eb9984",
            "11f3beeb08c346f7a96d5fa5f3bca3fe",
            "9b25f83ad23a495caf894edc7a9407e3",
            "70dd2194cd6a41188095b44b2620a61c",
            "cb3e2e80d689445d93172ae13ec4e787",
            "321120a0ff404f95a44e213723525beb",
            "8cdf413f58404beb95ff1cd1b1a27cf4",
            "a23f0c576826484fa85b2e21629eabbb",
            "6b5d3c06ecd54006aa7081622225bf78",
            "905fb583062c49dfb4f88d31ad44762e",
            "685f77d69d9242368fdd8943ee73d4e7",
            "394883da9efb43f29a3d970055d5ec8c",
            "44e005441d5c4d6f91442e48b59a0a97",
            "f5f6683b015946cbac79d7745d24197e",
            "7617a74bd12a4f1d98a2999ae0a1466d",
            "bd6302e828c244dd8137766a69d04e4c",
            "0f7f21c983ca409897be4fe1ed360848",
            "47dd3078741f4da38557e620ea2c05f6",
            "5c2a6a7020d6488e9a068be48d832ff0",
            "d25bab42939341c3bca8a92ee469e4f2",
            "787ca50f0e9d45ad94c67ea2866346f6",
            "03efe84535cf441186520bdddb149f59"
          ]
        },
        "id": "HOGcbq-NK3T3",
        "outputId": "1e8c2d36-6345-449a-eb70-60384b41eb13"
      },
      "outputs": [
        {
          "output_type": "stream",
          "name": "stdout",
          "text": [
            "\n",
            "model_base: {'params': {}}\n"
          ]
        },
        {
          "output_type": "display_data",
          "data": {
            "text/plain": [
              "config.json:   0%|          | 0.00/70.0k [00:00<?, ?B/s]"
            ],
            "application/vnd.jupyter.widget-view+json": {
              "version_major": 2,
              "version_minor": 0,
              "model_id": "b29019a514c84af7be94a658b1eb9984"
            }
          },
          "metadata": {}
        },
        {
          "output_type": "display_data",
          "data": {
            "text/plain": [
              "pytorch_model.bin:   0%|          | 0.00/14.4M [00:00<?, ?B/s]"
            ],
            "application/vnd.jupyter.widget-view+json": {
              "version_major": 2,
              "version_minor": 0,
              "model_id": "394883da9efb43f29a3d970055d5ec8c"
            }
          },
          "metadata": {}
        },
        {
          "output_type": "stream",
          "name": "stdout",
          "text": [
            "OrderedDict([('', 0)])\n",
            "dict_keys(['load_time', 'model', 'memory_footprint'])\n",
            "\n",
            "model_half: {'params': {'half': True}}\n",
            "OrderedDict([('', 0)])\n",
            "dict_keys(['load_time', 'model', 'memory_footprint'])\n",
            "\n",
            "model_int8: {'params': {'load_in_8bit': True}}\n"
          ]
        },
        {
          "output_type": "stream",
          "name": "stderr",
          "text": [
            "The `load_in_4bit` and `load_in_8bit` arguments are deprecated and will be removed in the future versions. Please, pass a `BitsAndBytesConfig` object in `quantization_config` argument instead.\n"
          ]
        },
        {
          "output_type": "stream",
          "name": "stdout",
          "text": [
            "OrderedDict([('', 0)])\n",
            "dict_keys(['load_time', 'model', 'memory_footprint'])\n",
            "\n",
            "model_int4: {'params': {'load_in_4bit': True}}\n"
          ]
        },
        {
          "output_type": "stream",
          "name": "stderr",
          "text": [
            "The `load_in_4bit` and `load_in_8bit` arguments are deprecated and will be removed in the future versions. Please, pass a `BitsAndBytesConfig` object in `quantization_config` argument instead.\n"
          ]
        },
        {
          "output_type": "stream",
          "name": "stdout",
          "text": [
            "OrderedDict([('', 0)])\n",
            "dict_keys(['load_time', 'model', 'memory_footprint'])\n"
          ]
        }
      ],
      "source": [
        "# get models\n",
        "for k,v in models.items():\n",
        "  print(f\"\\n{k}: {v}\")\n",
        "  models[k] = get_model_as_dict(\n",
        "    model_checkpoint, MODEL_PATH,\n",
        "    max_memory, v[\"params\"]\n",
        "  )\n",
        "  print(\n",
        "    accelerate.infer_auto_device_map(models[k][\"model\"], max_memory=max_memory)\n",
        "  )\n",
        "  print(f\"{models[k].keys()}\")"
      ]
    },
    {
      "cell_type": "code",
      "execution_count": 55,
      "metadata": {
        "id": "6GnAEkRtomkL"
      },
      "outputs": [],
      "source": [
        "models_stats = {\n",
        "  k:{\n",
        "    \"load_time\": v[\"load_time\"],\n",
        "    \"memory_footprint\": v[\"memory_footprint\"],\n",
        "    #\"is_quantized\": v[\"model\"].is_quantized,\n",
        "    \"device_map\": v[\"model\"].hf_device_map\n",
        "  } for k,v in models.items()\n",
        "}"
      ]
    },
    {
      "cell_type": "code",
      "execution_count": 59,
      "metadata": {
        "colab": {
          "base_uri": "https://localhost:8080/"
        },
        "id": "MgVK5mnq_utc",
        "outputId": "6c0bf1ff-730f-4ce0-8b07-a4247e900aab"
      },
      "outputs": [
        {
          "output_type": "stream",
          "name": "stdout",
          "text": [
            "name\t\tsize [MiB]\tratio\ttime\tdevice_map\n",
            "model_base\t13.64\t\t1.0\t5.08\t{'': device(type='cuda', index=0)}\n",
            "model_half\t6.82\t\t0.5\t1.31\t{'': device(type='cuda', index=0)}\n",
            "model_int8\t4.62\t\t0.34\t1.91\t{'': device(type='cuda', index=0)}\n",
            "model_int4\t3.52\t\t0.26\t1.56\t{'': device(type='cuda', index=0)}\n"
          ]
        }
      ],
      "source": [
        "print_models_stats(\n",
        "  models_stats, models_stats[\"model_base\"][\"memory_footprint\"]\n",
        ")"
      ]
    },
    {
      "cell_type": "markdown",
      "metadata": {
        "id": "u1F4R3dncHb9"
      },
      "source": [
        "## Test model with example input\n",
        "\n",
        "---\n",
        "\n"
      ]
    },
    {
      "cell_type": "code",
      "execution_count": 60,
      "metadata": {
        "id": "2_BgAFh1-q5J",
        "colab": {
          "base_uri": "https://localhost:8080/",
          "height": 81
        },
        "outputId": "edb0dbb0-c8dd-401b-b613-d4248014b55e"
      },
      "outputs": [
        {
          "output_type": "execute_result",
          "data": {
            "text/plain": [
              "<PIL.JpegImagePlugin.JpegImageFile image mode=RGB size=64x64>"
            ],
            "image/png": "[encoded data removed]"
          },
          "metadata": {},
          "execution_count": 60
        }
      ],
      "source": [
        "test_image = dataset['train'][0]['image']\n",
        "inputs = image_processor(images=test_image, return_tensors=\"pt\")\n",
        "inputs[\"pixel_values\"] = inputs[\"pixel_values\"].to(deviceinfo[\"devicename\"].type)\n",
        "inputs_halfed = inputs.copy()\n",
        "inputs_halfed[\"pixel_values\"] = inputs_halfed[\"pixel_values\"].half()\n",
        "test_image"
      ]
    },
    {
      "cell_type": "code",
      "execution_count": 61,
      "metadata": {
        "id": "8tWaGfoFdvHK"
      },
      "outputs": [],
      "source": [
        "def infer_model_input_print(\n",
        "    model_name: str,\n",
        "    model: SegformerForImageClassification,\n",
        "    input: dict\n",
        ") -> None:\n",
        "  print(model_name)\n",
        "  with no_grad():\n",
        "    outputs = model(**input)\n",
        "  pred_cls_idx = outputs.logits.argmax(-1).item()\n",
        "  pred_cls_lbl = model.config.id2label[pred_cls_idx]\n",
        "  print(f\"{outputs.keys()=}, {outputs.logits.shape=}\")\n",
        "  print(f\"{pred_cls_idx=}, {pred_cls_lbl=}\")"
      ]
    },
    {
      "cell_type": "code",
      "source": [
        "#for k in models.keys():\n",
        "#  input = inputs_halfed if models[k][\"model\"].is_quantized else inputs\n",
        "#  infer_model_input_print(k, models[k][\"model\"], input)"
      ],
      "metadata": {
        "id": "06RM1NxxmY8I"
      },
      "execution_count": 65,
      "outputs": []
    },
    {
      "cell_type": "markdown",
      "metadata": {
        "id": "X7xdPbfja6fE"
      },
      "source": [
        "## Summary\n",
        "\n",
        "* Different amount of non-trainable params"
      ]
    },
    {
      "cell_type": "code",
      "execution_count": 66,
      "metadata": {
        "colab": {
          "base_uri": "https://localhost:8080/"
        },
        "id": "1P1stJ4z9GLy",
        "outputId": "54d4ed7f-3baa-4796-b5f1-6f0cc331c75a"
      },
      "outputs": [
        {
          "output_type": "stream",
          "name": "stdout",
          "text": [
            "\n",
            "model_base\n",
            "====================================================================================================\n",
            "Layer (type:depth-idx)                                                      Param #\n",
            "====================================================================================================\n",
            "SegformerForImageClassification                                             --\n",
            "├─SegformerModel: 1-1                                                       --\n",
            "│    └─SegformerEncoder: 2-1                                                --\n",
            "│    │    └─ModuleList: 3-1                                                 485,472\n",
            "│    │    └─ModuleList: 3-2                                                 2,832,896\n",
            "│    │    └─ModuleList: 3-3                                                 1,024\n",
            "├─Linear: 1-2                                                               257,000\n",
            "====================================================================================================\n",
            "Total params: 3,576,392\n",
            "Trainable params: 3,576,392\n",
            "Non-trainable params: 0\n",
            "====================================================================================================\n",
            "\n",
            "model_half\n",
            "====================================================================================================\n",
            "Layer (type:depth-idx)                                                      Param #\n",
            "====================================================================================================\n",
            "SegformerForImageClassification                                             --\n",
            "├─SegformerModel: 1-1                                                       --\n",
            "│    └─SegformerEncoder: 2-1                                                --\n",
            "│    │    └─ModuleList: 3-1                                                 485,472\n",
            "│    │    └─ModuleList: 3-2                                                 2,832,896\n",
            "│    │    └─ModuleList: 3-3                                                 1,024\n",
            "├─Linear: 1-2                                                               257,000\n",
            "====================================================================================================\n",
            "Total params: 3,576,392\n",
            "Trainable params: 3,576,392\n",
            "Non-trainable params: 0\n",
            "====================================================================================================\n",
            "\n",
            "model_int8\n",
            "====================================================================================================\n",
            "Layer (type:depth-idx)                                                      Param #\n",
            "====================================================================================================\n",
            "SegformerForImageClassification                                             --\n",
            "├─SegformerModel: 1-1                                                       --\n",
            "│    └─SegformerEncoder: 2-1                                                --\n",
            "│    │    └─ModuleList: 3-1                                                 485,472\n",
            "│    │    └─ModuleList: 3-2                                                 2,832,896\n",
            "│    │    └─ModuleList: 3-3                                                 1,024\n",
            "├─Linear: 1-2                                                               257,000\n",
            "====================================================================================================\n",
            "Total params: 3,576,392\n",
            "Trainable params: 1,257,032\n",
            "Non-trainable params: 2,319,360\n",
            "====================================================================================================\n",
            "\n",
            "model_int4\n",
            "====================================================================================================\n",
            "Layer (type:depth-idx)                                                      Param #\n",
            "====================================================================================================\n",
            "SegformerForImageClassification                                             --\n",
            "├─SegformerModel: 1-1                                                       --\n",
            "│    └─SegformerEncoder: 2-1                                                --\n",
            "│    │    └─ModuleList: 3-1                                                 485,472\n",
            "│    │    └─ModuleList: 3-2                                                 1,677,824\n",
            "│    │    └─ModuleList: 3-3                                                 1,024\n",
            "├─Linear: 1-2                                                               257,000\n",
            "====================================================================================================\n",
            "Total params: 2,421,320\n",
            "Trainable params: 1,257,032\n",
            "Non-trainable params: 1,164,288\n",
            "====================================================================================================\n"
          ]
        }
      ],
      "source": [
        "# shape 2d input (C, H, W), 1d (C, L)\n",
        "#TODO summary with input_size=(batch_size, 3, 512,512)) #, device='cpu')\n",
        "for m in models.keys():\n",
        "  sum = summary(models[m][\"model\"])\n",
        "  print(f\"\\n{m}\\n{sum}\")"
      ]
    },
    {
      "cell_type": "markdown",
      "metadata": {
        "id": "IapeDrLnZ6YJ"
      },
      "source": [
        "## Analysis of components"
      ]
    },
    {
      "cell_type": "code",
      "execution_count": 67,
      "metadata": {
        "id": "smyU5CowmzW2",
        "colab": {
          "base_uri": "https://localhost:8080/"
        },
        "outputId": "acfc18ed-c90b-4115-d460-627cdf5fccc3"
      },
      "outputs": [
        {
          "output_type": "stream",
          "name": "stdout",
          "text": [
            "\n",
            "model_base\n",
            "base_model_prefix:\tsegformer\n",
            "call_super_init:\tFalse\n",
            "main_input_name:\tpixel_values\n",
            "classifier:\tLinear(in_features=256, out_features=1000, bias=True)\n",
            "num_labels:\t1000\n",
            "dump_patches:\tFalse\n",
            "is_parallelizable:\tFalse\n",
            "name_or_path:\tnvidia/mit-b0\n",
            "\n",
            "model_half\n",
            "base_model_prefix:\tsegformer\n",
            "call_super_init:\tFalse\n",
            "main_input_name:\tpixel_values\n",
            "classifier:\tLinear(in_features=256, out_features=1000, bias=True)\n",
            "num_labels:\t1000\n",
            "dump_patches:\tFalse\n",
            "is_parallelizable:\tFalse\n",
            "name_or_path:\tnvidia/mit-b0\n",
            "\n",
            "model_int8\n",
            "base_model_prefix:\tsegformer\n",
            "call_super_init:\tFalse\n",
            "main_input_name:\tpixel_values\n",
            "classifier:\tLinear(in_features=256, out_features=1000, bias=True)\n",
            "num_labels:\t1000\n",
            "dump_patches:\tFalse\n",
            "is_parallelizable:\tFalse\n",
            "name_or_path:\tnvidia/mit-b0\n",
            "\n",
            "model_int4\n",
            "base_model_prefix:\tsegformer\n",
            "call_super_init:\tFalse\n",
            "main_input_name:\tpixel_values\n",
            "classifier:\tLinear(in_features=256, out_features=1000, bias=True)\n",
            "num_labels:\t1000\n",
            "dump_patches:\tFalse\n",
            "is_parallelizable:\tFalse\n",
            "name_or_path:\tnvidia/mit-b0\n"
          ]
        }
      ],
      "source": [
        "features = (\n",
        "    \"base_model_prefix\", \"call_super_init\", \"main_input_name\", \"classifier\",\n",
        "    \"num_labels\", \"dump_patches\", \"is_parallelizable\", \"name_or_path\"\n",
        ")\n",
        "for m in models.keys():\n",
        "  print(f\"\\n{m}\")\n",
        "  for feature in features:\n",
        "    model = models[m][\"model\"]\n",
        "    f = eval(f\"model.{feature}\")\n",
        "    print(f\"{feature}:\\t{f}\")\n",
        "del(model)"
      ]
    },
    {
      "cell_type": "code",
      "execution_count": 68,
      "metadata": {
        "colab": {
          "base_uri": "https://localhost:8080/"
        },
        "id": "z_96rOGTczGs",
        "outputId": "559fe50c-97c5-42a1-9a23-850caff45e39"
      },
      "outputs": [
        {
          "output_type": "execute_result",
          "data": {
            "text/plain": [
              "dict_keys(['training', '_parameters', '_buffers', '_non_persistent_buffers_set', '_backward_pre_hooks', '_backward_hooks', '_is_full_backward_hook', '_forward_hooks', '_forward_hooks_with_kwargs', '_forward_hooks_always_called', '_forward_pre_hooks', '_forward_pre_hooks_with_kwargs', '_state_dict_hooks', '_state_dict_pre_hooks', '_load_state_dict_pre_hooks', '_load_state_dict_post_hooks', '_modules', 'config', 'name_or_path', 'warnings_issued', 'generation_config', '_keep_in_fp32_modules', 'num_labels', '_is_hf_initialized', 'hf_device_map'])"
            ]
          },
          "metadata": {},
          "execution_count": 68
        }
      ],
      "source": [
        "models[\"model_base\"][\"model\"].__dict__.keys()"
      ]
    },
    {
      "cell_type": "markdown",
      "metadata": {
        "id": "vWNfCDy9Uh_-"
      },
      "source": [
        "### Model graph"
      ]
    },
    {
      "cell_type": "code",
      "source": [
        "# get config: print(models[\"model_base\"][\"model\"]._modules[k].__dict__['config'])\n",
        "def print_model_structure(modules, i, max_i):\n",
        "  if i == max_i: return\n",
        "  nl = f\"└ \" if i != 0 else \"\"\n",
        "  t = \" \".join(\" \" * i)\n",
        "  for k in modules:\n",
        "    print(f\"{t}{nl}{k}\")\n",
        "    print_model_structure(modules[k]._modules, i+1, max_i)"
      ],
      "metadata": {
        "id": "8xN4PULvYGVV"
      },
      "execution_count": 179,
      "outputs": []
    },
    {
      "cell_type": "code",
      "source": [
        "modules = models[\"model_base\"][\"model\"]._modules\n",
        "print_model_structure(modules, 0, 99)"
      ],
      "metadata": {
        "colab": {
          "base_uri": "https://localhost:8080/"
        },
        "id": "NGQpwU32Yf4u",
        "outputId": "4641a19b-52f9-4c76-ab54-85e8bcc19591"
      },
      "execution_count": 180,
      "outputs": [
        {
          "output_type": "stream",
          "name": "stdout",
          "text": [
            "segformer\n",
            " └ encoder\n",
            "   └ patch_embeddings\n",
            "     └ 0\n",
            "       └ proj\n",
            "       └ layer_norm\n",
            "     └ 1\n",
            "       └ proj\n",
            "       └ layer_norm\n",
            "     └ 2\n",
            "       └ proj\n",
            "       └ layer_norm\n",
            "     └ 3\n",
            "       └ proj\n",
            "       └ layer_norm\n",
            "   └ block\n",
            "     └ 0\n",
            "       └ 0\n",
            "         └ layer_norm_1\n",
            "         └ attention\n",
            "           └ self\n",
            "             └ query\n",
            "             └ key\n",
            "             └ value\n",
            "             └ dropout\n",
            "             └ sr\n",
            "             └ layer_norm\n",
            "           └ output\n",
            "             └ dense\n",
            "             └ dropout\n",
            "         └ drop_path\n",
            "         └ layer_norm_2\n",
            "         └ mlp\n",
            "           └ dense1\n",
            "           └ dwconv\n",
            "             └ dwconv\n",
            "           └ intermediate_act_fn\n",
            "           └ dense2\n",
            "           └ dropout\n",
            "       └ 1\n",
            "         └ layer_norm_1\n",
            "         └ attention\n",
            "           └ self\n",
            "             └ query\n",
            "             └ key\n",
            "             └ value\n",
            "             └ dropout\n",
            "             └ sr\n",
            "             └ layer_norm\n",
            "           └ output\n",
            "             └ dense\n",
            "             └ dropout\n",
            "         └ drop_path\n",
            "         └ layer_norm_2\n",
            "         └ mlp\n",
            "           └ dense1\n",
            "           └ dwconv\n",
            "             └ dwconv\n",
            "           └ intermediate_act_fn\n",
            "           └ dense2\n",
            "           └ dropout\n",
            "     └ 1\n",
            "       └ 0\n",
            "         └ layer_norm_1\n",
            "         └ attention\n",
            "           └ self\n",
            "             └ query\n",
            "             └ key\n",
            "             └ value\n",
            "             └ dropout\n",
            "             └ sr\n",
            "             └ layer_norm\n",
            "           └ output\n",
            "             └ dense\n",
            "             └ dropout\n",
            "         └ drop_path\n",
            "         └ layer_norm_2\n",
            "         └ mlp\n",
            "           └ dense1\n",
            "           └ dwconv\n",
            "             └ dwconv\n",
            "           └ intermediate_act_fn\n",
            "           └ dense2\n",
            "           └ dropout\n",
            "       └ 1\n",
            "         └ layer_norm_1\n",
            "         └ attention\n",
            "           └ self\n",
            "             └ query\n",
            "             └ key\n",
            "             └ value\n",
            "             └ dropout\n",
            "             └ sr\n",
            "             └ layer_norm\n",
            "           └ output\n",
            "             └ dense\n",
            "             └ dropout\n",
            "         └ drop_path\n",
            "         └ layer_norm_2\n",
            "         └ mlp\n",
            "           └ dense1\n",
            "           └ dwconv\n",
            "             └ dwconv\n",
            "           └ intermediate_act_fn\n",
            "           └ dense2\n",
            "           └ dropout\n",
            "     └ 2\n",
            "       └ 0\n",
            "         └ layer_norm_1\n",
            "         └ attention\n",
            "           └ self\n",
            "             └ query\n",
            "             └ key\n",
            "             └ value\n",
            "             └ dropout\n",
            "             └ sr\n",
            "             └ layer_norm\n",
            "           └ output\n",
            "             └ dense\n",
            "             └ dropout\n",
            "         └ drop_path\n",
            "         └ layer_norm_2\n",
            "         └ mlp\n",
            "           └ dense1\n",
            "           └ dwconv\n",
            "             └ dwconv\n",
            "           └ intermediate_act_fn\n",
            "           └ dense2\n",
            "           └ dropout\n",
            "       └ 1\n",
            "         └ layer_norm_1\n",
            "         └ attention\n",
            "           └ self\n",
            "             └ query\n",
            "             └ key\n",
            "             └ value\n",
            "             └ dropout\n",
            "             └ sr\n",
            "             └ layer_norm\n",
            "           └ output\n",
            "             └ dense\n",
            "             └ dropout\n",
            "         └ drop_path\n",
            "         └ layer_norm_2\n",
            "         └ mlp\n",
            "           └ dense1\n",
            "           └ dwconv\n",
            "             └ dwconv\n",
            "           └ intermediate_act_fn\n",
            "           └ dense2\n",
            "           └ dropout\n",
            "     └ 3\n",
            "       └ 0\n",
            "         └ layer_norm_1\n",
            "         └ attention\n",
            "           └ self\n",
            "             └ query\n",
            "             └ key\n",
            "             └ value\n",
            "             └ dropout\n",
            "           └ output\n",
            "             └ dense\n",
            "             └ dropout\n",
            "         └ drop_path\n",
            "         └ layer_norm_2\n",
            "         └ mlp\n",
            "           └ dense1\n",
            "           └ dwconv\n",
            "             └ dwconv\n",
            "           └ intermediate_act_fn\n",
            "           └ dense2\n",
            "           └ dropout\n",
            "       └ 1\n",
            "         └ layer_norm_1\n",
            "         └ attention\n",
            "           └ self\n",
            "             └ query\n",
            "             └ key\n",
            "             └ value\n",
            "             └ dropout\n",
            "           └ output\n",
            "             └ dense\n",
            "             └ dropout\n",
            "         └ drop_path\n",
            "         └ layer_norm_2\n",
            "         └ mlp\n",
            "           └ dense1\n",
            "           └ dwconv\n",
            "             └ dwconv\n",
            "           └ intermediate_act_fn\n",
            "           └ dense2\n",
            "           └ dropout\n",
            "   └ layer_norm\n",
            "     └ 0\n",
            "     └ 1\n",
            "     └ 2\n",
            "     └ 3\n",
            "classifier\n"
          ]
        }
      ]
    },
    {
      "cell_type": "markdown",
      "metadata": {
        "id": "YpXPFjLBb_rc"
      },
      "source": [
        "### Encoder `config` attributes"
      ]
    },
    {
      "cell_type": "code",
      "execution_count": 175,
      "metadata": {
        "colab": {
          "base_uri": "https://localhost:8080/"
        },
        "id": "1V_Taw0JC6Pk",
        "outputId": "b9587ea5-566c-43ac-d656-e6a1a7845cad"
      },
      "outputs": [
        {
          "output_type": "execute_result",
          "data": {
            "text/plain": [
              "dict_keys(['return_dict', 'output_hidden_states', 'output_attentions', 'torchscript', 'torch_dtype', 'use_bfloat16', 'tf_legacy_loss', 'pruned_heads', 'tie_word_embeddings', 'chunk_size_feed_forward', 'is_encoder_decoder', 'is_decoder', 'cross_attention_hidden_size', 'add_cross_attention', 'tie_encoder_decoder', 'max_length', 'min_length', 'do_sample', 'early_stopping', 'num_beams', 'num_beam_groups', 'diversity_penalty', 'temperature', 'top_k', 'top_p', 'typical_p', 'repetition_penalty', 'length_penalty', 'no_repeat_ngram_size', 'encoder_no_repeat_ngram_size', 'bad_words_ids', 'num_return_sequences', 'output_scores', 'return_dict_in_generate', 'forced_bos_token_id', 'forced_eos_token_id', 'remove_invalid_values', 'exponential_decay_length_penalty', 'suppress_tokens', 'begin_suppress_tokens', 'architectures', 'finetuning_task', 'id2label', 'label2id', 'tokenizer_class', 'prefix', 'bos_token_id', 'pad_token_id', 'eos_token_id', 'sep_token_id', 'decoder_start_token_id', 'task_specific_params', 'problem_type', '_name_or_path', '_commit_hash', '_attn_implementation_internal', 'transformers_version', 'downsampling_rates', 'image_size', 'model_type', 'num_channels', 'num_encoder_blocks', 'depths', 'sr_ratios', 'hidden_sizes', 'patch_sizes', 'strides', 'mlp_ratios', 'num_attention_heads', 'hidden_act', 'hidden_dropout_prob', 'attention_probs_dropout_prob', 'classifier_dropout_prob', 'initializer_range', 'drop_path_rate', 'layer_norm_eps', 'decoder_hidden_size', 'reshape_last_stage', 'semantic_loss_ignore_index'])"
            ]
          },
          "metadata": {},
          "execution_count": 175
        }
      ],
      "source": [
        "models[\"model_base\"][\"model\"].base_model._modules[\"encoder\"].\\\n",
        "  config.__dict__.keys()"
      ]
    },
    {
      "cell_type": "markdown",
      "metadata": {
        "id": "IikYQF0dbRtT"
      },
      "source": [
        "### Encoder Attn W&B shapes and types"
      ]
    },
    {
      "cell_type": "code",
      "execution_count": 176,
      "metadata": {
        "colab": {
          "base_uri": "https://localhost:8080/"
        },
        "id": "LCGcQLX5dnhH",
        "outputId": "4db272c7-0fa3-4cc1-993c-e4401bace4cb"
      },
      "outputs": [
        {
          "output_type": "stream",
          "name": "stdout",
          "text": [
            "shape, type, dtype\n",
            "model_base\n",
            "W: torch.Size([32, 32]), <class 'torch.nn.parameter.Parameter'>, torch.float32\n",
            "B: torch.Size([32]), <class 'torch.nn.parameter.Parameter'>, torch.float32\n",
            "model_half\n",
            "W: torch.Size([32, 32]), <class 'torch.nn.parameter.Parameter'>, torch.float16\n",
            "B: torch.Size([32]), <class 'torch.nn.parameter.Parameter'>, torch.float16\n",
            "model_int8\n",
            "W: torch.Size([32, 32]), <class 'bitsandbytes.nn.modules.Int8Params'>, torch.int8\n",
            "B: torch.Size([32]), <class 'torch.nn.parameter.Parameter'>, torch.float16\n",
            "model_int4\n",
            "W: torch.Size([512, 1]), <class 'bitsandbytes.nn.modules.Params4bit'>, torch.uint8\n",
            "B: torch.Size([32]), <class 'torch.nn.parameter.Parameter'>, torch.float16\n"
          ]
        }
      ],
      "source": [
        "print(\"shape, type, dtype\")\n",
        "for m in models.keys():\n",
        "  w = models[m][\"model\"].base_model.encoder.block[0][0].\\\n",
        "    attention.self.query.weight\n",
        "  b = models[m][\"model\"].base_model.encoder.block[0][0].\\\n",
        "    attention.self.query.bias\n",
        "  print(m)\n",
        "  print(f\"W: {w.shape}, {type(w)}, {w.dtype}\")\n",
        "  print(f\"B: {b.shape}, {type(b)}, {b.dtype}\")"
      ]
    },
    {
      "cell_type": "markdown",
      "metadata": {
        "id": "IX0p7gB7TgNF"
      },
      "source": [
        "### Encoder Attn W&B binarized"
      ]
    },
    {
      "cell_type": "code",
      "execution_count": 177,
      "metadata": {
        "colab": {
          "base_uri": "https://localhost:8080/"
        },
        "id": "JgKf79nFNm4C",
        "outputId": "9f79b866-512b-4a52-a702-6bc76c2f4740"
      },
      "outputs": [
        {
          "output_type": "stream",
          "name": "stdout",
          "text": [
            "wandb={'weights': Parameter containing:\n",
            "tensor([[ 0.2056, -0.0214, -0.0157,  ..., -0.2073, -0.0188, -0.1008],\n",
            "        [ 0.0999, -0.0270,  0.2822,  ..., -0.5098, -0.0323, -0.0946],\n",
            "        [-0.0916, -0.1218, -0.1352,  ...,  0.0769, -0.1750, -0.1733],\n",
            "        ...,\n",
            "        [-0.2343, -0.2502, -0.2035,  ...,  0.3643,  0.2711, -0.1026],\n",
            "        [-0.1128,  0.2950,  0.0249,  ...,  0.1715,  0.0009, -0.0659],\n",
            "        [ 0.0486, -0.2077,  0.0285,  ...,  0.4297, -0.2127,  0.2493]],\n",
            "       device='cuda:0', requires_grad=True), 'biases': Parameter containing:\n",
            "tensor([-0.9663, -0.8828, -1.9095, -2.2925,  1.3038,  1.1518, -0.1643,  2.1551,\n",
            "         1.6874,  0.0306, -2.6529, -0.1244, -2.5922,  1.1711,  0.3846,  4.2415,\n",
            "         0.0925,  0.4346,  0.6358, -1.7323, -0.4298,  0.0603,  0.1595,  1.0717,\n",
            "        -0.9436, -0.7558,  3.4137, -0.4830, -2.7237, -3.5547,  4.3426, -1.5543],\n",
            "       device='cuda:0', requires_grad=True)}\n",
            "wandb_binarized={'weights': tensor([[1, 0, 0,  ..., 0, 0, 0],\n",
            "        [1, 0, 1,  ..., 0, 0, 0],\n",
            "        [0, 0, 0,  ..., 1, 0, 0],\n",
            "        ...,\n",
            "        [0, 0, 0,  ..., 1, 1, 0],\n",
            "        [0, 1, 1,  ..., 1, 1, 0],\n",
            "        [1, 0, 1,  ..., 1, 0, 1]], device='cuda:0'), 'biases': tensor([0, 0, 0, 0, 1, 1, 0, 1, 1, 1, 0, 0, 0, 1, 1, 1, 1, 1, 1, 0, 0, 1, 1, 1,\n",
            "        0, 0, 1, 0, 0, 0, 1, 0], device='cuda:0')}\n",
            "wandb_binarized_for_softmax={'weights': tensor([[ 1, -1, -1,  ..., -1, -1, -1],\n",
            "        [ 1, -1,  1,  ..., -1, -1, -1],\n",
            "        [-1, -1, -1,  ...,  1, -1, -1],\n",
            "        ...,\n",
            "        [-1, -1, -1,  ...,  1,  1, -1],\n",
            "        [-1,  1,  1,  ...,  1,  1, -1],\n",
            "        [ 1, -1,  1,  ...,  1, -1,  1]], device='cuda:0'), 'biases': tensor([-1, -1, -1, -1,  1,  1, -1,  1,  1,  1, -1, -1, -1,  1,  1,  1,  1,  1,\n",
            "         1, -1, -1,  1,  1,  1, -1, -1,  1, -1, -1, -1,  1, -1],\n",
            "       device='cuda:0')}\n"
          ]
        }
      ],
      "source": [
        "# test on single block\n",
        "# https://pytorch.org/docs/stable/torch.html#math-operations\n",
        "# https://pytorch.org/docs/stable/generated/torch.nn.parameter.Parameter.html\n",
        "# https://pytorch.org/docs/stable/generated/torch.Tensor.map_.html\n",
        "# https://pytorch.org/docs/stable/generated/torch.Tensor.detach.html\n",
        "wandb = {\n",
        "  \"weights\": models[\"model_base\"][\"model\"].base_model.encoder.\\\n",
        "    block[0][0].attention.self.query.weight,\n",
        "  \"biases\": models[\"model_base\"][\"model\"].base_model.encoder.\\\n",
        "    block[0][0].attention.self.query.bias\n",
        "}\n",
        "#TODO to torch.param and grad\n",
        "# RuntimeError: only Tensors of floating point dtype can require gradients\n",
        "wandb_binarized = {\n",
        "    k:(ge(wandb[k], zeros(wandb[k].shape).to(deviceinfo[\"devicename\"].type))*1)\n",
        "    for k in wandb.keys()\n",
        "}\n",
        "wandb_binarized_for_softmax = {\n",
        "    k:where(wandb_binarized[k].detach().clone() == 0, -1, 1)\n",
        "    for k in wandb.keys()\n",
        "}\n",
        "print(f\"{wandb=}\\n{wandb_binarized=}\\n{wandb_binarized_for_softmax=}\")"
      ]
    },
    {
      "cell_type": "code",
      "execution_count": 178,
      "metadata": {
        "colab": {
          "base_uri": "https://localhost:8080/"
        },
        "id": "lQqyG_ptX10u",
        "outputId": "43c14654-cb3a-47d4-e733-00a61eb0d71a"
      },
      "outputs": [
        {
          "output_type": "execute_result",
          "data": {
            "text/plain": [
              "['0.0.attention.self.query.weight',\n",
              " '0.0.attention.self.key.weight',\n",
              " '0.0.attention.self.value.weight',\n",
              " '0.1.attention.self.query.weight',\n",
              " '0.1.attention.self.key.weight',\n",
              " '0.1.attention.self.value.weight',\n",
              " '1.0.attention.self.query.weight',\n",
              " '1.0.attention.self.key.weight',\n",
              " '1.0.attention.self.value.weight',\n",
              " '1.1.attention.self.query.weight',\n",
              " '1.1.attention.self.key.weight',\n",
              " '1.1.attention.self.value.weight',\n",
              " '2.0.attention.self.query.weight',\n",
              " '2.0.attention.self.key.weight',\n",
              " '2.0.attention.self.value.weight',\n",
              " '2.1.attention.self.query.weight',\n",
              " '2.1.attention.self.key.weight',\n",
              " '2.1.attention.self.value.weight',\n",
              " '3.0.attention.self.query.weight',\n",
              " '3.0.attention.self.key.weight',\n",
              " '3.0.attention.self.value.weight',\n",
              " '3.1.attention.self.query.weight',\n",
              " '3.1.attention.self.key.weight',\n",
              " '3.1.attention.self.value.weight']"
            ]
          },
          "metadata": {},
          "execution_count": 178
        }
      ],
      "source": [
        "# prepare full attention binarization\n",
        "import re\n",
        "rex = re.compile(r'.*attention.self.(?:query|key|value).(?:weight)') #|bias)')\n",
        "wandb_attn = [\n",
        "  n\n",
        "  for n,p in models[\"model_base\"][\"model\"].base_model.\\\n",
        "    encoder.block.named_parameters()\n",
        "  if rex.findall(n)\n",
        "]\n",
        "wandb_attn"
      ]
    },
    {
      "cell_type": "markdown",
      "metadata": {
        "id": "fip7C2ZqbaZ8"
      },
      "source": [
        "### Encoder `named_parameters` with `requires_grad`"
      ]
    },
    {
      "cell_type": "code",
      "execution_count": 181,
      "metadata": {
        "id": "68rKw__FGnq-",
        "colab": {
          "base_uri": "https://localhost:8080/"
        },
        "outputId": "283596ff-85fc-444d-c480-da2ef97a6617"
      },
      "outputs": [
        {
          "output_type": "stream",
          "name": "stdout",
          "text": [
            "encoder.patch_embeddings.0.proj.weight\n",
            "encoder.patch_embeddings.0.proj.bias\n",
            "encoder.patch_embeddings.0.layer_norm.weight\n",
            "encoder.patch_embeddings.0.layer_norm.bias\n",
            "encoder.patch_embeddings.1.proj.weight\n",
            "encoder.patch_embeddings.1.proj.bias\n",
            "encoder.patch_embeddings.1.layer_norm.weight\n",
            "encoder.patch_embeddings.1.layer_norm.bias\n",
            "encoder.patch_embeddings.2.proj.weight\n",
            "encoder.patch_embeddings.2.proj.bias\n",
            "encoder.patch_embeddings.2.layer_norm.weight\n",
            "encoder.patch_embeddings.2.layer_norm.bias\n",
            "encoder.patch_embeddings.3.proj.weight\n",
            "encoder.patch_embeddings.3.proj.bias\n",
            "encoder.patch_embeddings.3.layer_norm.weight\n",
            "encoder.patch_embeddings.3.layer_norm.bias\n",
            "encoder.block.0.0.layer_norm_1.weight\n",
            "encoder.block.0.0.layer_norm_1.bias\n",
            "encoder.block.0.0.attention.self.query.weight\n",
            "encoder.block.0.0.attention.self.query.bias\n",
            "encoder.block.0.0.attention.self.key.weight\n",
            "encoder.block.0.0.attention.self.key.bias\n",
            "encoder.block.0.0.attention.self.value.weight\n",
            "encoder.block.0.0.attention.self.value.bias\n",
            "encoder.block.0.0.attention.self.sr.weight\n",
            "encoder.block.0.0.attention.self.sr.bias\n",
            "encoder.block.0.0.attention.self.layer_norm.weight\n",
            "encoder.block.0.0.attention.self.layer_norm.bias\n",
            "encoder.block.0.0.attention.output.dense.weight\n",
            "encoder.block.0.0.attention.output.dense.bias\n",
            "encoder.block.0.0.layer_norm_2.weight\n",
            "encoder.block.0.0.layer_norm_2.bias\n",
            "encoder.block.0.0.mlp.dense1.weight\n",
            "encoder.block.0.0.mlp.dense1.bias\n",
            "encoder.block.0.0.mlp.dwconv.dwconv.weight\n",
            "encoder.block.0.0.mlp.dwconv.dwconv.bias\n",
            "encoder.block.0.0.mlp.dense2.weight\n",
            "encoder.block.0.0.mlp.dense2.bias\n",
            "encoder.block.0.1.layer_norm_1.weight\n",
            "encoder.block.0.1.layer_norm_1.bias\n",
            "encoder.block.0.1.attention.self.query.weight\n",
            "encoder.block.0.1.attention.self.query.bias\n",
            "encoder.block.0.1.attention.self.key.weight\n",
            "encoder.block.0.1.attention.self.key.bias\n",
            "encoder.block.0.1.attention.self.value.weight\n",
            "encoder.block.0.1.attention.self.value.bias\n",
            "encoder.block.0.1.attention.self.sr.weight\n",
            "encoder.block.0.1.attention.self.sr.bias\n",
            "encoder.block.0.1.attention.self.layer_norm.weight\n",
            "encoder.block.0.1.attention.self.layer_norm.bias\n",
            "encoder.block.0.1.attention.output.dense.weight\n",
            "encoder.block.0.1.attention.output.dense.bias\n",
            "encoder.block.0.1.layer_norm_2.weight\n",
            "encoder.block.0.1.layer_norm_2.bias\n",
            "encoder.block.0.1.mlp.dense1.weight\n",
            "encoder.block.0.1.mlp.dense1.bias\n",
            "encoder.block.0.1.mlp.dwconv.dwconv.weight\n",
            "encoder.block.0.1.mlp.dwconv.dwconv.bias\n",
            "encoder.block.0.1.mlp.dense2.weight\n",
            "encoder.block.0.1.mlp.dense2.bias\n",
            "encoder.block.1.0.layer_norm_1.weight\n",
            "encoder.block.1.0.layer_norm_1.bias\n",
            "encoder.block.1.0.attention.self.query.weight\n",
            "encoder.block.1.0.attention.self.query.bias\n",
            "encoder.block.1.0.attention.self.key.weight\n",
            "encoder.block.1.0.attention.self.key.bias\n",
            "encoder.block.1.0.attention.self.value.weight\n",
            "encoder.block.1.0.attention.self.value.bias\n",
            "encoder.block.1.0.attention.self.sr.weight\n",
            "encoder.block.1.0.attention.self.sr.bias\n",
            "encoder.block.1.0.attention.self.layer_norm.weight\n",
            "encoder.block.1.0.attention.self.layer_norm.bias\n",
            "encoder.block.1.0.attention.output.dense.weight\n",
            "encoder.block.1.0.attention.output.dense.bias\n",
            "encoder.block.1.0.layer_norm_2.weight\n",
            "encoder.block.1.0.layer_norm_2.bias\n",
            "encoder.block.1.0.mlp.dense1.weight\n",
            "encoder.block.1.0.mlp.dense1.bias\n",
            "encoder.block.1.0.mlp.dwconv.dwconv.weight\n",
            "encoder.block.1.0.mlp.dwconv.dwconv.bias\n",
            "encoder.block.1.0.mlp.dense2.weight\n",
            "encoder.block.1.0.mlp.dense2.bias\n",
            "encoder.block.1.1.layer_norm_1.weight\n",
            "encoder.block.1.1.layer_norm_1.bias\n",
            "encoder.block.1.1.attention.self.query.weight\n",
            "encoder.block.1.1.attention.self.query.bias\n",
            "encoder.block.1.1.attention.self.key.weight\n",
            "encoder.block.1.1.attention.self.key.bias\n",
            "encoder.block.1.1.attention.self.value.weight\n",
            "encoder.block.1.1.attention.self.value.bias\n",
            "encoder.block.1.1.attention.self.sr.weight\n",
            "encoder.block.1.1.attention.self.sr.bias\n",
            "encoder.block.1.1.attention.self.layer_norm.weight\n",
            "encoder.block.1.1.attention.self.layer_norm.bias\n",
            "encoder.block.1.1.attention.output.dense.weight\n",
            "encoder.block.1.1.attention.output.dense.bias\n",
            "encoder.block.1.1.layer_norm_2.weight\n",
            "encoder.block.1.1.layer_norm_2.bias\n",
            "encoder.block.1.1.mlp.dense1.weight\n",
            "encoder.block.1.1.mlp.dense1.bias\n",
            "encoder.block.1.1.mlp.dwconv.dwconv.weight\n",
            "encoder.block.1.1.mlp.dwconv.dwconv.bias\n",
            "encoder.block.1.1.mlp.dense2.weight\n",
            "encoder.block.1.1.mlp.dense2.bias\n",
            "encoder.block.2.0.layer_norm_1.weight\n",
            "encoder.block.2.0.layer_norm_1.bias\n",
            "encoder.block.2.0.attention.self.query.weight\n",
            "encoder.block.2.0.attention.self.query.bias\n",
            "encoder.block.2.0.attention.self.key.weight\n",
            "encoder.block.2.0.attention.self.key.bias\n",
            "encoder.block.2.0.attention.self.value.weight\n",
            "encoder.block.2.0.attention.self.value.bias\n",
            "encoder.block.2.0.attention.self.sr.weight\n",
            "encoder.block.2.0.attention.self.sr.bias\n",
            "encoder.block.2.0.attention.self.layer_norm.weight\n",
            "encoder.block.2.0.attention.self.layer_norm.bias\n",
            "encoder.block.2.0.attention.output.dense.weight\n",
            "encoder.block.2.0.attention.output.dense.bias\n",
            "encoder.block.2.0.layer_norm_2.weight\n",
            "encoder.block.2.0.layer_norm_2.bias\n",
            "encoder.block.2.0.mlp.dense1.weight\n",
            "encoder.block.2.0.mlp.dense1.bias\n",
            "encoder.block.2.0.mlp.dwconv.dwconv.weight\n",
            "encoder.block.2.0.mlp.dwconv.dwconv.bias\n",
            "encoder.block.2.0.mlp.dense2.weight\n",
            "encoder.block.2.0.mlp.dense2.bias\n",
            "encoder.block.2.1.layer_norm_1.weight\n",
            "encoder.block.2.1.layer_norm_1.bias\n",
            "encoder.block.2.1.attention.self.query.weight\n",
            "encoder.block.2.1.attention.self.query.bias\n",
            "encoder.block.2.1.attention.self.key.weight\n",
            "encoder.block.2.1.attention.self.key.bias\n",
            "encoder.block.2.1.attention.self.value.weight\n",
            "encoder.block.2.1.attention.self.value.bias\n",
            "encoder.block.2.1.attention.self.sr.weight\n",
            "encoder.block.2.1.attention.self.sr.bias\n",
            "encoder.block.2.1.attention.self.layer_norm.weight\n",
            "encoder.block.2.1.attention.self.layer_norm.bias\n",
            "encoder.block.2.1.attention.output.dense.weight\n",
            "encoder.block.2.1.attention.output.dense.bias\n",
            "encoder.block.2.1.layer_norm_2.weight\n",
            "encoder.block.2.1.layer_norm_2.bias\n",
            "encoder.block.2.1.mlp.dense1.weight\n",
            "encoder.block.2.1.mlp.dense1.bias\n",
            "encoder.block.2.1.mlp.dwconv.dwconv.weight\n",
            "encoder.block.2.1.mlp.dwconv.dwconv.bias\n",
            "encoder.block.2.1.mlp.dense2.weight\n",
            "encoder.block.2.1.mlp.dense2.bias\n",
            "encoder.block.3.0.layer_norm_1.weight\n",
            "encoder.block.3.0.layer_norm_1.bias\n",
            "encoder.block.3.0.attention.self.query.weight\n",
            "encoder.block.3.0.attention.self.query.bias\n",
            "encoder.block.3.0.attention.self.key.weight\n",
            "encoder.block.3.0.attention.self.key.bias\n",
            "encoder.block.3.0.attention.self.value.weight\n",
            "encoder.block.3.0.attention.self.value.bias\n",
            "encoder.block.3.0.attention.output.dense.weight\n",
            "encoder.block.3.0.attention.output.dense.bias\n",
            "encoder.block.3.0.layer_norm_2.weight\n",
            "encoder.block.3.0.layer_norm_2.bias\n",
            "encoder.block.3.0.mlp.dense1.weight\n",
            "encoder.block.3.0.mlp.dense1.bias\n",
            "encoder.block.3.0.mlp.dwconv.dwconv.weight\n",
            "encoder.block.3.0.mlp.dwconv.dwconv.bias\n",
            "encoder.block.3.0.mlp.dense2.weight\n",
            "encoder.block.3.0.mlp.dense2.bias\n",
            "encoder.block.3.1.layer_norm_1.weight\n",
            "encoder.block.3.1.layer_norm_1.bias\n",
            "encoder.block.3.1.attention.self.query.weight\n",
            "encoder.block.3.1.attention.self.query.bias\n",
            "encoder.block.3.1.attention.self.key.weight\n",
            "encoder.block.3.1.attention.self.key.bias\n",
            "encoder.block.3.1.attention.self.value.weight\n",
            "encoder.block.3.1.attention.self.value.bias\n",
            "encoder.block.3.1.attention.output.dense.weight\n",
            "encoder.block.3.1.attention.output.dense.bias\n",
            "encoder.block.3.1.layer_norm_2.weight\n",
            "encoder.block.3.1.layer_norm_2.bias\n",
            "encoder.block.3.1.mlp.dense1.weight\n",
            "encoder.block.3.1.mlp.dense1.bias\n",
            "encoder.block.3.1.mlp.dwconv.dwconv.weight\n",
            "encoder.block.3.1.mlp.dwconv.dwconv.bias\n",
            "encoder.block.3.1.mlp.dense2.weight\n",
            "encoder.block.3.1.mlp.dense2.bias\n",
            "encoder.layer_norm.0.weight\n",
            "encoder.layer_norm.0.bias\n",
            "encoder.layer_norm.1.weight\n",
            "encoder.layer_norm.1.bias\n",
            "encoder.layer_norm.2.weight\n",
            "encoder.layer_norm.2.bias\n",
            "encoder.layer_norm.3.weight\n",
            "encoder.layer_norm.3.bias\n"
          ]
        }
      ],
      "source": [
        "for name, param in models[\"model_base\"][\"model\"].base_model.named_parameters():\n",
        "  if param.requires_grad:\n",
        "    print(name)"
      ]
    },
    {
      "cell_type": "markdown",
      "metadata": {
        "id": "WeUyKhdNbwUH"
      },
      "source": [
        "### Encoder `patch_embeddings` attributes"
      ]
    },
    {
      "cell_type": "code",
      "execution_count": 182,
      "metadata": {
        "colab": {
          "base_uri": "https://localhost:8080/"
        },
        "id": "YH_7zFlNGIC-",
        "outputId": "a1481f54-bc43-4cba-9c1f-fbb89c848f2a"
      },
      "outputs": [
        {
          "output_type": "execute_result",
          "data": {
            "text/plain": [
              "dict_keys(['training', '_parameters', '_buffers', '_non_persistent_buffers_set', '_backward_pre_hooks', '_backward_hooks', '_is_full_backward_hook', '_forward_hooks', '_forward_hooks_with_kwargs', '_forward_hooks_always_called', '_forward_pre_hooks', '_forward_pre_hooks_with_kwargs', '_state_dict_hooks', '_state_dict_pre_hooks', '_load_state_dict_pre_hooks', '_load_state_dict_post_hooks', '_modules', '_is_hf_initialized'])"
            ]
          },
          "metadata": {},
          "execution_count": 182
        }
      ],
      "source": [
        "models[\"model_base\"][\"model\"].base_model._modules['encoder'].\\\n",
        "  _modules['patch_embeddings'].__dict__.keys()"
      ]
    },
    {
      "cell_type": "markdown",
      "metadata": {
        "id": "-beBsFFiheD6"
      },
      "source": [
        "### Encoder `main_input_name`"
      ]
    },
    {
      "cell_type": "code",
      "execution_count": 183,
      "metadata": {
        "colab": {
          "base_uri": "https://localhost:8080/",
          "height": 35
        },
        "id": "6ta2BQuBhYDi",
        "outputId": "95d56657-58af-4261-b793-3811d3e26550"
      },
      "outputs": [
        {
          "output_type": "execute_result",
          "data": {
            "text/plain": [
              "'pixel_values'"
            ],
            "application/vnd.google.colaboratory.intrinsic+json": {
              "type": "string"
            }
          },
          "metadata": {},
          "execution_count": 183
        }
      ],
      "source": [
        "models[\"model_base\"][\"model\"].main_input_name"
      ]
    },
    {
      "cell_type": "markdown",
      "metadata": {
        "id": "xoy5irbWl2w0"
      },
      "source": [
        "### Decoder"
      ]
    },
    {
      "cell_type": "code",
      "execution_count": 184,
      "metadata": {
        "colab": {
          "base_uri": "https://localhost:8080/"
        },
        "id": "K-uZMH1Nl6yi",
        "outputId": "2da95665-9909-487c-870c-305729eb2943"
      },
      "outputs": [
        {
          "output_type": "stream",
          "name": "stdout",
          "text": [
            "No decoder found.\n"
          ]
        }
      ],
      "source": [
        "try:\n",
        "  models[\"model_base\"][\"model\"].decoder\n",
        "except:\n",
        "  print(\"No decoder found.\")"
      ]
    },
    {
      "cell_type": "markdown",
      "metadata": {
        "id": "HOXmyPQ76Qv9"
      },
      "source": [
        "# Training"
      ]
    },
    {
      "cell_type": "markdown",
      "metadata": {
        "id": "Y0PqjzHQVutb"
      },
      "source": [
        "## Collation and dtype halfing of batches"
      ]
    },
    {
      "cell_type": "code",
      "execution_count": 185,
      "metadata": {
        "id": "u0WcwsX7rW9w"
      },
      "outputs": [],
      "source": [
        "def collate_fn(examples: dict, half_data: bool = False) -> dict:\n",
        "    pixel_values = stack([example[\"pixel_values\"] for example in examples])\n",
        "    labels = tensor([example[\"label\"] for example in examples])\n",
        "    if (\"trainer\" in globals() and trainer.model.is_quantized) or half_data:\n",
        "      pixel_values = pixel_values.half() # to fit float16 biases\n",
        "    return {\"pixel_values\": pixel_values, \"labels\": labels}"
      ]
    },
    {
      "cell_type": "code",
      "execution_count": 186,
      "metadata": {
        "colab": {
          "base_uri": "https://localhost:8080/"
        },
        "id": "n8mxTKx7D8Dc",
        "outputId": "3ac08306-8d57-4371-ec4f-71ecd2dbba68"
      },
      "outputs": [
        {
          "output_type": "stream",
          "name": "stdout",
          "text": [
            "ds_quantized.keys()=dict_keys(['pixel_values', 'labels'])\n",
            "ds_quantized['pixel_values'].dtype=torch.float16\n"
          ]
        }
      ],
      "source": [
        "# test collation\n",
        "ds_quantized = collate_fn(dataset[\"train\"].shard(10000, 0), True)\n",
        "print(f\"{ds_quantized.keys()=}\\n{ds_quantized['pixel_values'].dtype=}\")"
      ]
    },
    {
      "cell_type": "markdown",
      "metadata": {
        "id": "FYMu0PlyUpnC"
      },
      "source": [
        "## Training as QAT"
      ]
    },
    {
      "cell_type": "code",
      "execution_count": 187,
      "metadata": {
        "id": "hEknhykz2nkl"
      },
      "outputs": [],
      "source": [
        "# https://huggingface.co/docs/datasets/v1.1.1/processing.html\n",
        "ds_sharding = (ds_num_shards, randrange(ds_num_shards))"
      ]
    },
    {
      "cell_type": "code",
      "execution_count": 188,
      "metadata": {
        "id": "fZsmKE5i-llh"
      },
      "outputs": [],
      "source": [
        "def add_args_and_trainer_to_model(model_name: str) -> None:\n",
        "  \"\"\"TODO\"\"\"\n",
        "  # if model_name == \"model_half\": pass\n",
        "  print(f\"Adding TrainingArguments and Trainer to '{model_name}'.\")\n",
        "  models[model_name][\"TrainArgs\"] = TrainingArguments(\n",
        "    f\"{model_name}-finetuned-{dataset_name}\",\n",
        "    remove_unused_columns=False,\n",
        "    evaluation_strategy = \"epoch\",\n",
        "    save_strategy = \"epoch\",\n",
        "    learning_rate=5e-5,\n",
        "    per_device_train_batch_size=batch_size,\n",
        "    gradient_accumulation_steps=4,\n",
        "    per_device_eval_batch_size=batch_size,\n",
        "    num_train_epochs=num_train_epochs,\n",
        "    warmup_ratio=0.1,\n",
        "    logging_steps=10,\n",
        "    load_best_model_at_end=True,\n",
        "    metric_for_best_model=metric_to_load\n",
        "    # push_to_hub=True,\n",
        "  )\n",
        "  models[model_name][\"Trainer\"] = Trainer(\n",
        "    models[model_name][\"model\"],\n",
        "    models[model_name][\"TrainArgs\"],\n",
        "    train_dataset=dataset[\"train\"].shard(*ds_sharding),\n",
        "    eval_dataset=dataset[\"test\"].shard(*ds_sharding),\n",
        "    tokenizer=image_processor,\n",
        "    compute_metrics=compute_metrics,\n",
        "    data_collator=collate_fn,\n",
        "    # optimizers=(AdamW,'')\n",
        "  )\n",
        "\n",
        "def train_model(model_name: str) -> None:\n",
        "  \"\"\"TODO\"\"\"\n",
        "  print(f\"Training '{model_name}'.\")\n",
        "  trainer = models[model_name][\"Trainer\"]\n",
        "  models[model_name][\"TrainResults\"] = trainer.train()\n",
        "  metrics = models[model_name][\"TrainResults\"].metrics\n",
        "  # trainer.save_model()\n",
        "  trainer.log_metrics(\"train\", metrics)\n",
        "  trainer.save_metrics(\"train\", metrics)\n",
        "  models[model_name][\"EvalResults\"] = trainer.evaluate()\n",
        "  metrics = models[model_name][\"EvalResults\"]\n",
        "  trainer.log_metrics(\"eval\", metrics)\n",
        "  trainer.save_metrics(\"eval\", metrics)\n",
        "  # trainer.save_state()\n",
        "  # trainer.push_to_hub()"
      ]
    },
    {
      "cell_type": "code",
      "execution_count": 189,
      "metadata": {
        "id": "Pps61vF_4QaH",
        "colab": {
          "base_uri": "https://localhost:8080/",
          "height": 1000
        },
        "outputId": "f8294956-8aa1-42a5-dd75-6f19876cc9b4"
      },
      "outputs": [
        {
          "output_type": "stream",
          "name": "stdout",
          "text": [
            "Adding TrainingArguments and Trainer to 'model_base'.\n",
            "Training 'model_base'.\n"
          ]
        },
        {
          "output_type": "stream",
          "name": "stderr",
          "text": [
            "/usr/local/lib/python3.10/dist-packages/transformers/training_args.py:1474: FutureWarning: `evaluation_strategy` is deprecated and will be removed in version 4.46 of 🤗 Transformers. Use `eval_strategy` instead\n",
            "  warnings.warn(\n",
            "/usr/local/lib/python3.10/dist-packages/torch/autograd/graph.py:744: UserWarning: Plan failed with a cudnnException: CUDNN_BACKEND_EXECUTION_PLAN_DESCRIPTOR: cudnnFinalize Descriptor Failed cudnn_status: CUDNN_STATUS_NOT_SUPPORTED (Triggered internally at ../aten/src/ATen/native/cudnn/Conv_v8.cpp:919.)\n",
            "  return Variable._execution_engine.run_backward(  # Calls into the C++ engine to run the backward pass\n"
          ]
        },
        {
          "output_type": "display_data",
          "data": {
            "text/plain": [
              "<IPython.core.display.HTML object>"
            ],
            "text/html": [
              "\n",
              "    <div>\n",
              "      \n",
              "      <progress value='10' max='10' style='width:300px; height:20px; vertical-align: middle;'></progress>\n",
              "      [10/10 00:14, Epoch 10/10]\n",
              "    </div>\n",
              "    <table border=\"1\" class=\"dataframe\">\n",
              "  <thead>\n",
              " <tr style=\"text-align: left;\">\n",
              "      <th>Epoch</th>\n",
              "      <th>Training Loss</th>\n",
              "      <th>Validation Loss</th>\n",
              "      <th>Accuracy</th>\n",
              "    </tr>\n",
              "  </thead>\n",
              "  <tbody>\n",
              "    <tr>\n",
              "      <td>1</td>\n",
              "      <td>No log</td>\n",
              "      <td>7.626924</td>\n",
              "      <td>0.000000</td>\n",
              "    </tr>\n",
              "    <tr>\n",
              "      <td>2</td>\n",
              "      <td>No log</td>\n",
              "      <td>6.491833</td>\n",
              "      <td>0.000000</td>\n",
              "    </tr>\n",
              "    <tr>\n",
              "      <td>3</td>\n",
              "      <td>No log</td>\n",
              "      <td>5.814534</td>\n",
              "      <td>0.000000</td>\n",
              "    </tr>\n",
              "    <tr>\n",
              "      <td>4</td>\n",
              "      <td>No log</td>\n",
              "      <td>5.435407</td>\n",
              "      <td>0.333333</td>\n",
              "    </tr>\n",
              "    <tr>\n",
              "      <td>5</td>\n",
              "      <td>No log</td>\n",
              "      <td>5.246453</td>\n",
              "      <td>0.333333</td>\n",
              "    </tr>\n",
              "    <tr>\n",
              "      <td>6</td>\n",
              "      <td>No log</td>\n",
              "      <td>5.142123</td>\n",
              "      <td>0.333333</td>\n",
              "    </tr>\n",
              "    <tr>\n",
              "      <td>7</td>\n",
              "      <td>No log</td>\n",
              "      <td>5.070566</td>\n",
              "      <td>0.333333</td>\n",
              "    </tr>\n",
              "    <tr>\n",
              "      <td>8</td>\n",
              "      <td>No log</td>\n",
              "      <td>5.011161</td>\n",
              "      <td>0.333333</td>\n",
              "    </tr>\n",
              "    <tr>\n",
              "      <td>9</td>\n",
              "      <td>No log</td>\n",
              "      <td>4.972273</td>\n",
              "      <td>0.333333</td>\n",
              "    </tr>\n",
              "    <tr>\n",
              "      <td>10</td>\n",
              "      <td>1.288500</td>\n",
              "      <td>4.949719</td>\n",
              "      <td>0.333333</td>\n",
              "    </tr>\n",
              "  </tbody>\n",
              "</table><p>"
            ]
          },
          "metadata": {}
        },
        {
          "output_type": "stream",
          "name": "stdout",
          "text": [
            "***** train metrics *****\n",
            "  epoch                    =       10.0\n",
            "  total_flos               =  3771975GF\n",
            "  train_loss               =     1.2885\n",
            "  train_runtime            = 0:00:16.46\n",
            "  train_samples_per_second =     14.578\n",
            "  train_steps_per_second   =      0.607\n"
          ]
        },
        {
          "output_type": "display_data",
          "data": {
            "text/plain": [
              "<IPython.core.display.HTML object>"
            ],
            "text/html": [
              "\n",
              "    <div>\n",
              "      \n",
              "      <progress value='1' max='1' style='width:300px; height:20px; vertical-align: middle;'></progress>\n",
              "      [1/1 : < :]\n",
              "    </div>\n",
              "    "
            ]
          },
          "metadata": {}
        },
        {
          "output_type": "stream",
          "name": "stdout",
          "text": [
            "***** eval metrics *****\n",
            "  epoch                   =       10.0\n",
            "  eval_accuracy           =     0.3333\n",
            "  eval_loss               =     5.4354\n",
            "  eval_runtime            = 0:00:00.06\n",
            "  eval_samples_per_second =      47.63\n",
            "  eval_steps_per_second   =     15.877\n",
            "Adding TrainingArguments and Trainer to 'model_half'.\n"
          ]
        },
        {
          "output_type": "stream",
          "name": "stderr",
          "text": [
            "/usr/local/lib/python3.10/dist-packages/transformers/training_args.py:1474: FutureWarning: `evaluation_strategy` is deprecated and will be removed in version 4.46 of 🤗 Transformers. Use `eval_strategy` instead\n",
            "  warnings.warn(\n"
          ]
        },
        {
          "output_type": "error",
          "ename": "ValueError",
          "evalue": "You cannot perform fine-tuning on purely quantized models. Please attach trainable adapters on top of the quantized model to correctly perform fine-tuning. Please see: https://huggingface.co/docs/transformers/peft for more details",
          "traceback": [
            "\u001b[0;31m---------------------------------------------------------------------------\u001b[0m",
            "\u001b[0;31mValueError\u001b[0m                                Traceback (most recent call last)",
            "\u001b[0;32m<ipython-input-189-802c111926d0>\u001b[0m in \u001b[0;36m<cell line: 1>\u001b[0;34m()\u001b[0m\n\u001b[1;32m      1\u001b[0m \u001b[0;32mfor\u001b[0m \u001b[0mmodel_name\u001b[0m \u001b[0;32min\u001b[0m \u001b[0mmodels\u001b[0m\u001b[0;34m.\u001b[0m\u001b[0mkeys\u001b[0m\u001b[0;34m(\u001b[0m\u001b[0;34m)\u001b[0m\u001b[0;34m:\u001b[0m\u001b[0;34m\u001b[0m\u001b[0;34m\u001b[0m\u001b[0m\n\u001b[0;32m----> 2\u001b[0;31m   \u001b[0madd_args_and_trainer_to_model\u001b[0m\u001b[0;34m(\u001b[0m\u001b[0mmodel_name\u001b[0m\u001b[0;34m)\u001b[0m\u001b[0;34m\u001b[0m\u001b[0;34m\u001b[0m\u001b[0m\n\u001b[0m\u001b[1;32m      3\u001b[0m   \u001b[0mtrain_model\u001b[0m\u001b[0;34m(\u001b[0m\u001b[0mmodel_name\u001b[0m\u001b[0;34m)\u001b[0m\u001b[0;34m\u001b[0m\u001b[0;34m\u001b[0m\u001b[0m\n",
            "\u001b[0;32m<ipython-input-188-3f2a20233b42>\u001b[0m in \u001b[0;36madd_args_and_trainer_to_model\u001b[0;34m(model_name)\u001b[0m\n\u001b[1;32m     19\u001b[0m     \u001b[0;31m# push_to_hub=True,\u001b[0m\u001b[0;34m\u001b[0m\u001b[0;34m\u001b[0m\u001b[0m\n\u001b[1;32m     20\u001b[0m   )\n\u001b[0;32m---> 21\u001b[0;31m   models[model_name][\"Trainer\"] = Trainer(\n\u001b[0m\u001b[1;32m     22\u001b[0m     \u001b[0mmodels\u001b[0m\u001b[0;34m[\u001b[0m\u001b[0mmodel_name\u001b[0m\u001b[0;34m]\u001b[0m\u001b[0;34m[\u001b[0m\u001b[0;34m\"model\"\u001b[0m\u001b[0;34m]\u001b[0m\u001b[0;34m,\u001b[0m\u001b[0;34m\u001b[0m\u001b[0;34m\u001b[0m\u001b[0m\n\u001b[1;32m     23\u001b[0m     \u001b[0mmodels\u001b[0m\u001b[0;34m[\u001b[0m\u001b[0mmodel_name\u001b[0m\u001b[0;34m]\u001b[0m\u001b[0;34m[\u001b[0m\u001b[0;34m\"TrainArgs\"\u001b[0m\u001b[0;34m]\u001b[0m\u001b[0;34m,\u001b[0m\u001b[0;34m\u001b[0m\u001b[0;34m\u001b[0m\u001b[0m\n",
            "\u001b[0;32m/usr/local/lib/python3.10/dist-packages/transformers/trainer.py\u001b[0m in \u001b[0;36m__init__\u001b[0;34m(self, model, args, data_collator, train_dataset, eval_dataset, tokenizer, model_init, compute_metrics, callbacks, optimizers, preprocess_logits_for_metrics)\u001b[0m\n\u001b[1;32m    473\u001b[0m         \u001b[0;31m# At this stage the model is already loaded\u001b[0m\u001b[0;34m\u001b[0m\u001b[0;34m\u001b[0m\u001b[0m\n\u001b[1;32m    474\u001b[0m         \u001b[0;32mif\u001b[0m \u001b[0m_is_quantized_and_base_model\u001b[0m \u001b[0;32mand\u001b[0m \u001b[0;32mnot\u001b[0m \u001b[0m_is_peft_model\u001b[0m\u001b[0;34m(\u001b[0m\u001b[0mmodel\u001b[0m\u001b[0;34m)\u001b[0m\u001b[0;34m:\u001b[0m\u001b[0;34m\u001b[0m\u001b[0;34m\u001b[0m\u001b[0m\n\u001b[0;32m--> 475\u001b[0;31m             raise ValueError(\n\u001b[0m\u001b[1;32m    476\u001b[0m                 \u001b[0;34m\"You cannot perform fine-tuning on purely quantized models. Please attach trainable adapters on top of\"\u001b[0m\u001b[0;34m\u001b[0m\u001b[0;34m\u001b[0m\u001b[0m\n\u001b[1;32m    477\u001b[0m                 \u001b[0;34m\" the quantized model to correctly perform fine-tuning. Please see: https://huggingface.co/docs/transformers/peft\"\u001b[0m\u001b[0;34m\u001b[0m\u001b[0;34m\u001b[0m\u001b[0m\n",
            "\u001b[0;31mValueError\u001b[0m: You cannot perform fine-tuning on purely quantized models. Please attach trainable adapters on top of the quantized model to correctly perform fine-tuning. Please see: https://huggingface.co/docs/transformers/peft for more details"
          ]
        }
      ],
      "source": [
        "for model_name in models.keys():\n",
        "  add_args_and_trainer_to_model(model_name)\n",
        "  train_model(model_name)"
      ]
    },
    {
      "cell_type": "markdown",
      "source": [
        "## Infer"
      ],
      "metadata": {
        "id": "kcF2cLYkoUc6"
      }
    },
    {
      "cell_type": "code",
      "source": [
        "for k in models.keys():\n",
        "  input = inputs_halfed if models[k][\"model\"].is_quantized else inputs\n",
        "  infer_model_input_print(k, models[k][\"model\"], input)\n",
        "  print(models[k].keys())"
      ],
      "metadata": {
        "colab": {
          "base_uri": "https://localhost:8080/",
          "height": 315
        },
        "id": "_9AVagAnnOE0",
        "outputId": "c72703de-bd7e-4317-bf68-eaeadeb06ff1"
      },
      "execution_count": 190,
      "outputs": [
        {
          "output_type": "error",
          "ename": "AttributeError",
          "evalue": "'SegformerForImageClassification' object has no attribute 'is_quantized'",
          "traceback": [
            "\u001b[0;31m---------------------------------------------------------------------------\u001b[0m",
            "\u001b[0;31mAttributeError\u001b[0m                            Traceback (most recent call last)",
            "\u001b[0;32m<ipython-input-190-eb16062388ff>\u001b[0m in \u001b[0;36m<cell line: 1>\u001b[0;34m()\u001b[0m\n\u001b[1;32m      1\u001b[0m \u001b[0;32mfor\u001b[0m \u001b[0mk\u001b[0m \u001b[0;32min\u001b[0m \u001b[0mmodels\u001b[0m\u001b[0;34m.\u001b[0m\u001b[0mkeys\u001b[0m\u001b[0;34m(\u001b[0m\u001b[0;34m)\u001b[0m\u001b[0;34m:\u001b[0m\u001b[0;34m\u001b[0m\u001b[0;34m\u001b[0m\u001b[0m\n\u001b[0;32m----> 2\u001b[0;31m   \u001b[0minput\u001b[0m \u001b[0;34m=\u001b[0m \u001b[0minputs_halfed\u001b[0m \u001b[0;32mif\u001b[0m \u001b[0mmodels\u001b[0m\u001b[0;34m[\u001b[0m\u001b[0mk\u001b[0m\u001b[0;34m]\u001b[0m\u001b[0;34m[\u001b[0m\u001b[0;34m\"model\"\u001b[0m\u001b[0;34m]\u001b[0m\u001b[0;34m.\u001b[0m\u001b[0mis_quantized\u001b[0m \u001b[0;32melse\u001b[0m \u001b[0minputs\u001b[0m\u001b[0;34m\u001b[0m\u001b[0;34m\u001b[0m\u001b[0m\n\u001b[0m\u001b[1;32m      3\u001b[0m   \u001b[0minfer_model_input_print\u001b[0m\u001b[0;34m(\u001b[0m\u001b[0mk\u001b[0m\u001b[0;34m,\u001b[0m \u001b[0mmodels\u001b[0m\u001b[0;34m[\u001b[0m\u001b[0mk\u001b[0m\u001b[0;34m]\u001b[0m\u001b[0;34m[\u001b[0m\u001b[0;34m\"model\"\u001b[0m\u001b[0;34m]\u001b[0m\u001b[0;34m,\u001b[0m \u001b[0minput\u001b[0m\u001b[0;34m)\u001b[0m\u001b[0;34m\u001b[0m\u001b[0;34m\u001b[0m\u001b[0m\n\u001b[1;32m      4\u001b[0m   \u001b[0mprint\u001b[0m\u001b[0;34m(\u001b[0m\u001b[0mmodels\u001b[0m\u001b[0;34m[\u001b[0m\u001b[0mk\u001b[0m\u001b[0;34m]\u001b[0m\u001b[0;34m.\u001b[0m\u001b[0mkeys\u001b[0m\u001b[0;34m(\u001b[0m\u001b[0;34m)\u001b[0m\u001b[0;34m)\u001b[0m\u001b[0;34m\u001b[0m\u001b[0;34m\u001b[0m\u001b[0m\n",
            "\u001b[0;32m/usr/local/lib/python3.10/dist-packages/torch/nn/modules/module.py\u001b[0m in \u001b[0;36m__getattr__\u001b[0;34m(self, name)\u001b[0m\n\u001b[1;32m   1707\u001b[0m             \u001b[0;32mif\u001b[0m \u001b[0mname\u001b[0m \u001b[0;32min\u001b[0m \u001b[0mmodules\u001b[0m\u001b[0;34m:\u001b[0m\u001b[0;34m\u001b[0m\u001b[0;34m\u001b[0m\u001b[0m\n\u001b[1;32m   1708\u001b[0m                 \u001b[0;32mreturn\u001b[0m \u001b[0mmodules\u001b[0m\u001b[0;34m[\u001b[0m\u001b[0mname\u001b[0m\u001b[0;34m]\u001b[0m\u001b[0;34m\u001b[0m\u001b[0;34m\u001b[0m\u001b[0m\n\u001b[0;32m-> 1709\u001b[0;31m         \u001b[0;32mraise\u001b[0m \u001b[0mAttributeError\u001b[0m\u001b[0;34m(\u001b[0m\u001b[0;34mf\"'{type(self).__name__}' object has no attribute '{name}'\"\u001b[0m\u001b[0;34m)\u001b[0m\u001b[0;34m\u001b[0m\u001b[0;34m\u001b[0m\u001b[0m\n\u001b[0m\u001b[1;32m   1710\u001b[0m \u001b[0;34m\u001b[0m\u001b[0m\n\u001b[1;32m   1711\u001b[0m     \u001b[0;32mdef\u001b[0m \u001b[0m__setattr__\u001b[0m\u001b[0;34m(\u001b[0m\u001b[0mself\u001b[0m\u001b[0;34m,\u001b[0m \u001b[0mname\u001b[0m\u001b[0;34m:\u001b[0m \u001b[0mstr\u001b[0m\u001b[0;34m,\u001b[0m \u001b[0mvalue\u001b[0m\u001b[0;34m:\u001b[0m \u001b[0mUnion\u001b[0m\u001b[0;34m[\u001b[0m\u001b[0mTensor\u001b[0m\u001b[0;34m,\u001b[0m \u001b[0;34m'Module'\u001b[0m\u001b[0;34m]\u001b[0m\u001b[0;34m)\u001b[0m \u001b[0;34m->\u001b[0m \u001b[0;32mNone\u001b[0m\u001b[0;34m:\u001b[0m\u001b[0;34m\u001b[0m\u001b[0;34m\u001b[0m\u001b[0m\n",
            "\u001b[0;31mAttributeError\u001b[0m: 'SegformerForImageClassification' object has no attribute 'is_quantized'"
          ]
        }
      ]
    }
  ],
  "metadata": {
    "colab": {
      "provenance": [],
      "gpuType": "T4"
    },
    "kernelspec": {
      "display_name": "Python 3",
      "name": "python3"
    },
    "language_info": {
      "codemirror_mode": {
        "name": "ipython",
        "version": 3
      },
      "file_extension": ".py",
      "mimetype": "text/x-python",
      "name": "python",
      "nbconvert_exporter": "python",
      "pygments_lexer": "ipython3",
      "version": "3.10.10"
    },
    "widgets": {
      "application/vnd.jupyter.widget-state+json": {
        "dfce962706e24afe81781c4f5091cff8": {
          "model_module": "@jupyter-widgets/controls",
          "model_name": "HBoxModel",
          "model_module_version": "1.5.0",
          "state": {
            "_dom_classes": [],
            "_model_module": "@jupyter-widgets/controls",
            "_model_module_version": "1.5.0",
            "_model_name": "HBoxModel",
            "_view_count": null,
            "_view_module": "@jupyter-widgets/controls",
            "_view_module_version": "1.5.0",
            "_view_name": "HBoxView",
            "box_style": "",
            "children": [
              "IPY_MODEL_046aeb5263894aef869c4a5135435e07",
              "IPY_MODEL_221c7ef23dee468c83311effa4dd09a6",
              "IPY_MODEL_b5e81ab0fcf94bca9661d9900ed6d431"
            ],
            "layout": "IPY_MODEL_da115ca74b324d0195f0976eecf6f3ae"
          }
        },
        "046aeb5263894aef869c4a5135435e07": {
          "model_module": "@jupyter-widgets/controls",
          "model_name": "HTMLModel",
          "model_module_version": "1.5.0",
          "state": {
            "_dom_classes": [],
            "_model_module": "@jupyter-widgets/controls",
            "_model_module_version": "1.5.0",
            "_model_name": "HTMLModel",
            "_view_count": null,
            "_view_module": "@jupyter-widgets/controls",
            "_view_module_version": "1.5.0",
            "_view_name": "HTMLView",
            "description": "",
            "description_tooltip": null,
            "layout": "IPY_MODEL_7caa6e86a7614d4c992f1b499fcdfad4",
            "placeholder": "​",
            "style": "IPY_MODEL_d3b68a2b719c4ba59d0f487490ccd4b8",
            "value": "preprocessor_config.json: 100%"
          }
        },
        "221c7ef23dee468c83311effa4dd09a6": {
          "model_module": "@jupyter-widgets/controls",
          "model_name": "FloatProgressModel",
          "model_module_version": "1.5.0",
          "state": {
            "_dom_classes": [],
            "_model_module": "@jupyter-widgets/controls",
            "_model_module_version": "1.5.0",
            "_model_name": "FloatProgressModel",
            "_view_count": null,
            "_view_module": "@jupyter-widgets/controls",
            "_view_module_version": "1.5.0",
            "_view_name": "ProgressView",
            "bar_style": "success",
            "description": "",
            "description_tooltip": null,
            "layout": "IPY_MODEL_054ce59838ca46008d3125035ca492a7",
            "max": 272,
            "min": 0,
            "orientation": "horizontal",
            "style": "IPY_MODEL_840ce6bda776402b9e7d261fb4cd334a",
            "value": 272
          }
        },
        "b5e81ab0fcf94bca9661d9900ed6d431": {
          "model_module": "@jupyter-widgets/controls",
          "model_name": "HTMLModel",
          "model_module_version": "1.5.0",
          "state": {
            "_dom_classes": [],
            "_model_module": "@jupyter-widgets/controls",
            "_model_module_version": "1.5.0",
            "_model_name": "HTMLModel",
            "_view_count": null,
            "_view_module": "@jupyter-widgets/controls",
            "_view_module_version": "1.5.0",
            "_view_name": "HTMLView",
            "description": "",
            "description_tooltip": null,
            "layout": "IPY_MODEL_66078775319e4958971cf70ca871656a",
            "placeholder": "​",
            "style": "IPY_MODEL_8d0ad4c18aaf4d179f66cefed2dae9ce",
            "value": " 272/272 [00:00&lt;00:00, 18.8kB/s]"
          }
        },
        "da115ca74b324d0195f0976eecf6f3ae": {
          "model_module": "@jupyter-widgets/base",
          "model_name": "LayoutModel",
          "model_module_version": "1.2.0",
          "state": {
            "_model_module": "@jupyter-widgets/base",
            "_model_module_version": "1.2.0",
            "_model_name": "LayoutModel",
            "_view_count": null,
            "_view_module": "@jupyter-widgets/base",
            "_view_module_version": "1.2.0",
            "_view_name": "LayoutView",
            "align_content": null,
            "align_items": null,
            "align_self": null,
            "border": null,
            "bottom": null,
            "display": null,
            "flex": null,
            "flex_flow": null,
            "grid_area": null,
            "grid_auto_columns": null,
            "grid_auto_flow": null,
            "grid_auto_rows": null,
            "grid_column": null,
            "grid_gap": null,
            "grid_row": null,
            "grid_template_areas": null,
            "grid_template_columns": null,
            "grid_template_rows": null,
            "height": null,
            "justify_content": null,
            "justify_items": null,
            "left": null,
            "margin": null,
            "max_height": null,
            "max_width": null,
            "min_height": null,
            "min_width": null,
            "object_fit": null,
            "object_position": null,
            "order": null,
            "overflow": null,
            "overflow_x": null,
            "overflow_y": null,
            "padding": null,
            "right": null,
            "top": null,
            "visibility": null,
            "width": null
          }
        },
        "7caa6e86a7614d4c992f1b499fcdfad4": {
          "model_module": "@jupyter-widgets/base",
          "model_name": "LayoutModel",
          "model_module_version": "1.2.0",
          "state": {
            "_model_module": "@jupyter-widgets/base",
            "_model_module_version": "1.2.0",
            "_model_name": "LayoutModel",
            "_view_count": null,
            "_view_module": "@jupyter-widgets/base",
            "_view_module_version": "1.2.0",
            "_view_name": "LayoutView",
            "align_content": null,
            "align_items": null,
            "align_self": null,
            "border": null,
            "bottom": null,
            "display": null,
            "flex": null,
            "flex_flow": null,
            "grid_area": null,
            "grid_auto_columns": null,
            "grid_auto_flow": null,
            "grid_auto_rows": null,
            "grid_column": null,
            "grid_gap": null,
            "grid_row": null,
            "grid_template_areas": null,
            "grid_template_columns": null,
            "grid_template_rows": null,
            "height": null,
            "justify_content": null,
            "justify_items": null,
            "left": null,
            "margin": null,
            "max_height": null,
            "max_width": null,
            "min_height": null,
            "min_width": null,
            "object_fit": null,
            "object_position": null,
            "order": null,
            "overflow": null,
            "overflow_x": null,
            "overflow_y": null,
            "padding": null,
            "right": null,
            "top": null,
            "visibility": null,
            "width": null
          }
        },
        "d3b68a2b719c4ba59d0f487490ccd4b8": {
          "model_module": "@jupyter-widgets/controls",
          "model_name": "DescriptionStyleModel",
          "model_module_version": "1.5.0",
          "state": {
            "_model_module": "@jupyter-widgets/controls",
            "_model_module_version": "1.5.0",
            "_model_name": "DescriptionStyleModel",
            "_view_count": null,
            "_view_module": "@jupyter-widgets/base",
            "_view_module_version": "1.2.0",
            "_view_name": "StyleView",
            "description_width": ""
          }
        },
        "054ce59838ca46008d3125035ca492a7": {
          "model_module": "@jupyter-widgets/base",
          "model_name": "LayoutModel",
          "model_module_version": "1.2.0",
          "state": {
            "_model_module": "@jupyter-widgets/base",
            "_model_module_version": "1.2.0",
            "_model_name": "LayoutModel",
            "_view_count": null,
            "_view_module": "@jupyter-widgets/base",
            "_view_module_version": "1.2.0",
            "_view_name": "LayoutView",
            "align_content": null,
            "align_items": null,
            "align_self": null,
            "border": null,
            "bottom": null,
            "display": null,
            "flex": null,
            "flex_flow": null,
            "grid_area": null,
            "grid_auto_columns": null,
            "grid_auto_flow": null,
            "grid_auto_rows": null,
            "grid_column": null,
            "grid_gap": null,
            "grid_row": null,
            "grid_template_areas": null,
            "grid_template_columns": null,
            "grid_template_rows": null,
            "height": null,
            "justify_content": null,
            "justify_items": null,
            "left": null,
            "margin": null,
            "max_height": null,
            "max_width": null,
            "min_height": null,
            "min_width": null,
            "object_fit": null,
            "object_position": null,
            "order": null,
            "overflow": null,
            "overflow_x": null,
            "overflow_y": null,
            "padding": null,
            "right": null,
            "top": null,
            "visibility": null,
            "width": null
          }
        },
        "840ce6bda776402b9e7d261fb4cd334a": {
          "model_module": "@jupyter-widgets/controls",
          "model_name": "ProgressStyleModel",
          "model_module_version": "1.5.0",
          "state": {
            "_model_module": "@jupyter-widgets/controls",
            "_model_module_version": "1.5.0",
            "_model_name": "ProgressStyleModel",
            "_view_count": null,
            "_view_module": "@jupyter-widgets/base",
            "_view_module_version": "1.2.0",
            "_view_name": "StyleView",
            "bar_color": null,
            "description_width": ""
          }
        },
        "66078775319e4958971cf70ca871656a": {
          "model_module": "@jupyter-widgets/base",
          "model_name": "LayoutModel",
          "model_module_version": "1.2.0",
          "state": {
            "_model_module": "@jupyter-widgets/base",
            "_model_module_version": "1.2.0",
            "_model_name": "LayoutModel",
            "_view_count": null,
            "_view_module": "@jupyter-widgets/base",
            "_view_module_version": "1.2.0",
            "_view_name": "LayoutView",
            "align_content": null,
            "align_items": null,
            "align_self": null,
            "border": null,
            "bottom": null,
            "display": null,
            "flex": null,
            "flex_flow": null,
            "grid_area": null,
            "grid_auto_columns": null,
            "grid_auto_flow": null,
            "grid_auto_rows": null,
            "grid_column": null,
            "grid_gap": null,
            "grid_row": null,
            "grid_template_areas": null,
            "grid_template_columns": null,
            "grid_template_rows": null,
            "height": null,
            "justify_content": null,
            "justify_items": null,
            "left": null,
            "margin": null,
            "max_height": null,
            "max_width": null,
            "min_height": null,
            "min_width": null,
            "object_fit": null,
            "object_position": null,
            "order": null,
            "overflow": null,
            "overflow_x": null,
            "overflow_y": null,
            "padding": null,
            "right": null,
            "top": null,
            "visibility": null,
            "width": null
          }
        },
        "8d0ad4c18aaf4d179f66cefed2dae9ce": {
          "model_module": "@jupyter-widgets/controls",
          "model_name": "DescriptionStyleModel",
          "model_module_version": "1.5.0",
          "state": {
            "_model_module": "@jupyter-widgets/controls",
            "_model_module_version": "1.5.0",
            "_model_name": "DescriptionStyleModel",
            "_view_count": null,
            "_view_module": "@jupyter-widgets/base",
            "_view_module_version": "1.2.0",
            "_view_name": "StyleView",
            "description_width": ""
          }
        },
        "e91b94d1a1dc41998529c983a01dab7c": {
          "model_module": "@jupyter-widgets/controls",
          "model_name": "HBoxModel",
          "model_module_version": "1.5.0",
          "state": {
            "_dom_classes": [],
            "_model_module": "@jupyter-widgets/controls",
            "_model_module_version": "1.5.0",
            "_model_name": "HBoxModel",
            "_view_count": null,
            "_view_module": "@jupyter-widgets/controls",
            "_view_module_version": "1.5.0",
            "_view_name": "HBoxView",
            "box_style": "",
            "children": [
              "IPY_MODEL_8816d62ea0124d46b1932bc9b2921f29",
              "IPY_MODEL_b86946829e6341368ebf0c37fbabafad",
              "IPY_MODEL_d10a90251aa8445faaa4aba40c84b235"
            ],
            "layout": "IPY_MODEL_7584d43776e24d3dab5795bddcb3f942"
          }
        },
        "8816d62ea0124d46b1932bc9b2921f29": {
          "model_module": "@jupyter-widgets/controls",
          "model_name": "HTMLModel",
          "model_module_version": "1.5.0",
          "state": {
            "_dom_classes": [],
            "_model_module": "@jupyter-widgets/controls",
            "_model_module_version": "1.5.0",
            "_model_name": "HTMLModel",
            "_view_count": null,
            "_view_module": "@jupyter-widgets/controls",
            "_view_module_version": "1.5.0",
            "_view_name": "HTMLView",
            "description": "",
            "description_tooltip": null,
            "layout": "IPY_MODEL_ca6a94a106a8466a91686972c8d71167",
            "placeholder": "​",
            "style": "IPY_MODEL_f356ff81304c4aabb922a20035abe05e",
            "value": "Downloading builder script: 100%"
          }
        },
        "b86946829e6341368ebf0c37fbabafad": {
          "model_module": "@jupyter-widgets/controls",
          "model_name": "FloatProgressModel",
          "model_module_version": "1.5.0",
          "state": {
            "_dom_classes": [],
            "_model_module": "@jupyter-widgets/controls",
            "_model_module_version": "1.5.0",
            "_model_name": "FloatProgressModel",
            "_view_count": null,
            "_view_module": "@jupyter-widgets/controls",
            "_view_module_version": "1.5.0",
            "_view_name": "ProgressView",
            "bar_style": "success",
            "description": "",
            "description_tooltip": null,
            "layout": "IPY_MODEL_e53de61b23284497bc755e459662cdf1",
            "max": 4203,
            "min": 0,
            "orientation": "horizontal",
            "style": "IPY_MODEL_1dd1f0a4f7c546b7a1502b2709cf2b2a",
            "value": 4203
          }
        },
        "d10a90251aa8445faaa4aba40c84b235": {
          "model_module": "@jupyter-widgets/controls",
          "model_name": "HTMLModel",
          "model_module_version": "1.5.0",
          "state": {
            "_dom_classes": [],
            "_model_module": "@jupyter-widgets/controls",
            "_model_module_version": "1.5.0",
            "_model_name": "HTMLModel",
            "_view_count": null,
            "_view_module": "@jupyter-widgets/controls",
            "_view_module_version": "1.5.0",
            "_view_name": "HTMLView",
            "description": "",
            "description_tooltip": null,
            "layout": "IPY_MODEL_4ba4be0e45b848568b403ec67a8bd580",
            "placeholder": "​",
            "style": "IPY_MODEL_f7528b6eeb8a428b99ab0f1381113f2e",
            "value": " 4.20k/4.20k [00:00&lt;00:00, 251kB/s]"
          }
        },
        "7584d43776e24d3dab5795bddcb3f942": {
          "model_module": "@jupyter-widgets/base",
          "model_name": "LayoutModel",
          "model_module_version": "1.2.0",
          "state": {
            "_model_module": "@jupyter-widgets/base",
            "_model_module_version": "1.2.0",
            "_model_name": "LayoutModel",
            "_view_count": null,
            "_view_module": "@jupyter-widgets/base",
            "_view_module_version": "1.2.0",
            "_view_name": "LayoutView",
            "align_content": null,
            "align_items": null,
            "align_self": null,
            "border": null,
            "bottom": null,
            "display": null,
            "flex": null,
            "flex_flow": null,
            "grid_area": null,
            "grid_auto_columns": null,
            "grid_auto_flow": null,
            "grid_auto_rows": null,
            "grid_column": null,
            "grid_gap": null,
            "grid_row": null,
            "grid_template_areas": null,
            "grid_template_columns": null,
            "grid_template_rows": null,
            "height": null,
            "justify_content": null,
            "justify_items": null,
            "left": null,
            "margin": null,
            "max_height": null,
            "max_width": null,
            "min_height": null,
            "min_width": null,
            "object_fit": null,
            "object_position": null,
            "order": null,
            "overflow": null,
            "overflow_x": null,
            "overflow_y": null,
            "padding": null,
            "right": null,
            "top": null,
            "visibility": null,
            "width": null
          }
        },
        "ca6a94a106a8466a91686972c8d71167": {
          "model_module": "@jupyter-widgets/base",
          "model_name": "LayoutModel",
          "model_module_version": "1.2.0",
          "state": {
            "_model_module": "@jupyter-widgets/base",
            "_model_module_version": "1.2.0",
            "_model_name": "LayoutModel",
            "_view_count": null,
            "_view_module": "@jupyter-widgets/base",
            "_view_module_version": "1.2.0",
            "_view_name": "LayoutView",
            "align_content": null,
            "align_items": null,
            "align_self": null,
            "border": null,
            "bottom": null,
            "display": null,
            "flex": null,
            "flex_flow": null,
            "grid_area": null,
            "grid_auto_columns": null,
            "grid_auto_flow": null,
            "grid_auto_rows": null,
            "grid_column": null,
            "grid_gap": null,
            "grid_row": null,
            "grid_template_areas": null,
            "grid_template_columns": null,
            "grid_template_rows": null,
            "height": null,
            "justify_content": null,
            "justify_items": null,
            "left": null,
            "margin": null,
            "max_height": null,
            "max_width": null,
            "min_height": null,
            "min_width": null,
            "object_fit": null,
            "object_position": null,
            "order": null,
            "overflow": null,
            "overflow_x": null,
            "overflow_y": null,
            "padding": null,
            "right": null,
            "top": null,
            "visibility": null,
            "width": null
          }
        },
        "f356ff81304c4aabb922a20035abe05e": {
          "model_module": "@jupyter-widgets/controls",
          "model_name": "DescriptionStyleModel",
          "model_module_version": "1.5.0",
          "state": {
            "_model_module": "@jupyter-widgets/controls",
            "_model_module_version": "1.5.0",
            "_model_name": "DescriptionStyleModel",
            "_view_count": null,
            "_view_module": "@jupyter-widgets/base",
            "_view_module_version": "1.2.0",
            "_view_name": "StyleView",
            "description_width": ""
          }
        },
        "e53de61b23284497bc755e459662cdf1": {
          "model_module": "@jupyter-widgets/base",
          "model_name": "LayoutModel",
          "model_module_version": "1.2.0",
          "state": {
            "_model_module": "@jupyter-widgets/base",
            "_model_module_version": "1.2.0",
            "_model_name": "LayoutModel",
            "_view_count": null,
            "_view_module": "@jupyter-widgets/base",
            "_view_module_version": "1.2.0",
            "_view_name": "LayoutView",
            "align_content": null,
            "align_items": null,
            "align_self": null,
            "border": null,
            "bottom": null,
            "display": null,
            "flex": null,
            "flex_flow": null,
            "grid_area": null,
            "grid_auto_columns": null,
            "grid_auto_flow": null,
            "grid_auto_rows": null,
            "grid_column": null,
            "grid_gap": null,
            "grid_row": null,
            "grid_template_areas": null,
            "grid_template_columns": null,
            "grid_template_rows": null,
            "height": null,
            "justify_content": null,
            "justify_items": null,
            "left": null,
            "margin": null,
            "max_height": null,
            "max_width": null,
            "min_height": null,
            "min_width": null,
            "object_fit": null,
            "object_position": null,
            "order": null,
            "overflow": null,
            "overflow_x": null,
            "overflow_y": null,
            "padding": null,
            "right": null,
            "top": null,
            "visibility": null,
            "width": null
          }
        },
        "1dd1f0a4f7c546b7a1502b2709cf2b2a": {
          "model_module": "@jupyter-widgets/controls",
          "model_name": "ProgressStyleModel",
          "model_module_version": "1.5.0",
          "state": {
            "_model_module": "@jupyter-widgets/controls",
            "_model_module_version": "1.5.0",
            "_model_name": "ProgressStyleModel",
            "_view_count": null,
            "_view_module": "@jupyter-widgets/base",
            "_view_module_version": "1.2.0",
            "_view_name": "StyleView",
            "bar_color": null,
            "description_width": ""
          }
        },
        "4ba4be0e45b848568b403ec67a8bd580": {
          "model_module": "@jupyter-widgets/base",
          "model_name": "LayoutModel",
          "model_module_version": "1.2.0",
          "state": {
            "_model_module": "@jupyter-widgets/base",
            "_model_module_version": "1.2.0",
            "_model_name": "LayoutModel",
            "_view_count": null,
            "_view_module": "@jupyter-widgets/base",
            "_view_module_version": "1.2.0",
            "_view_name": "LayoutView",
            "align_content": null,
            "align_items": null,
            "align_self": null,
            "border": null,
            "bottom": null,
            "display": null,
            "flex": null,
            "flex_flow": null,
            "grid_area": null,
            "grid_auto_columns": null,
            "grid_auto_flow": null,
            "grid_auto_rows": null,
            "grid_column": null,
            "grid_gap": null,
            "grid_row": null,
            "grid_template_areas": null,
            "grid_template_columns": null,
            "grid_template_rows": null,
            "height": null,
            "justify_content": null,
            "justify_items": null,
            "left": null,
            "margin": null,
            "max_height": null,
            "max_width": null,
            "min_height": null,
            "min_width": null,
            "object_fit": null,
            "object_position": null,
            "order": null,
            "overflow": null,
            "overflow_x": null,
            "overflow_y": null,
            "padding": null,
            "right": null,
            "top": null,
            "visibility": null,
            "width": null
          }
        },
        "f7528b6eeb8a428b99ab0f1381113f2e": {
          "model_module": "@jupyter-widgets/controls",
          "model_name": "DescriptionStyleModel",
          "model_module_version": "1.5.0",
          "state": {
            "_model_module": "@jupyter-widgets/controls",
            "_model_module_version": "1.5.0",
            "_model_name": "DescriptionStyleModel",
            "_view_count": null,
            "_view_module": "@jupyter-widgets/base",
            "_view_module_version": "1.2.0",
            "_view_name": "StyleView",
            "description_width": ""
          }
        },
        "b29019a514c84af7be94a658b1eb9984": {
          "model_module": "@jupyter-widgets/controls",
          "model_name": "HBoxModel",
          "model_module_version": "1.5.0",
          "state": {
            "_dom_classes": [],
            "_model_module": "@jupyter-widgets/controls",
            "_model_module_version": "1.5.0",
            "_model_name": "HBoxModel",
            "_view_count": null,
            "_view_module": "@jupyter-widgets/controls",
            "_view_module_version": "1.5.0",
            "_view_name": "HBoxView",
            "box_style": "",
            "children": [
              "IPY_MODEL_11f3beeb08c346f7a96d5fa5f3bca3fe",
              "IPY_MODEL_9b25f83ad23a495caf894edc7a9407e3",
              "IPY_MODEL_70dd2194cd6a41188095b44b2620a61c"
            ],
            "layout": "IPY_MODEL_cb3e2e80d689445d93172ae13ec4e787"
          }
        },
        "11f3beeb08c346f7a96d5fa5f3bca3fe": {
          "model_module": "@jupyter-widgets/controls",
          "model_name": "HTMLModel",
          "model_module_version": "1.5.0",
          "state": {
            "_dom_classes": [],
            "_model_module": "@jupyter-widgets/controls",
            "_model_module_version": "1.5.0",
            "_model_name": "HTMLModel",
            "_view_count": null,
            "_view_module": "@jupyter-widgets/controls",
            "_view_module_version": "1.5.0",
            "_view_name": "HTMLView",
            "description": "",
            "description_tooltip": null,
            "layout": "IPY_MODEL_321120a0ff404f95a44e213723525beb",
            "placeholder": "​",
            "style": "IPY_MODEL_8cdf413f58404beb95ff1cd1b1a27cf4",
            "value": "config.json: 100%"
          }
        },
        "9b25f83ad23a495caf894edc7a9407e3": {
          "model_module": "@jupyter-widgets/controls",
          "model_name": "FloatProgressModel",
          "model_module_version": "1.5.0",
          "state": {
            "_dom_classes": [],
            "_model_module": "@jupyter-widgets/controls",
            "_model_module_version": "1.5.0",
            "_model_name": "FloatProgressModel",
            "_view_count": null,
            "_view_module": "@jupyter-widgets/controls",
            "_view_module_version": "1.5.0",
            "_view_name": "ProgressView",
            "bar_style": "success",
            "description": "",
            "description_tooltip": null,
            "layout": "IPY_MODEL_a23f0c576826484fa85b2e21629eabbb",
            "max": 70043,
            "min": 0,
            "orientation": "horizontal",
            "style": "IPY_MODEL_6b5d3c06ecd54006aa7081622225bf78",
            "value": 70043
          }
        },
        "70dd2194cd6a41188095b44b2620a61c": {
          "model_module": "@jupyter-widgets/controls",
          "model_name": "HTMLModel",
          "model_module_version": "1.5.0",
          "state": {
            "_dom_classes": [],
            "_model_module": "@jupyter-widgets/controls",
            "_model_module_version": "1.5.0",
            "_model_name": "HTMLModel",
            "_view_count": null,
            "_view_module": "@jupyter-widgets/controls",
            "_view_module_version": "1.5.0",
            "_view_name": "HTMLView",
            "description": "",
            "description_tooltip": null,
            "layout": "IPY_MODEL_905fb583062c49dfb4f88d31ad44762e",
            "placeholder": "​",
            "style": "IPY_MODEL_685f77d69d9242368fdd8943ee73d4e7",
            "value": " 70.0k/70.0k [00:00&lt;00:00, 3.25MB/s]"
          }
        },
        "cb3e2e80d689445d93172ae13ec4e787": {
          "model_module": "@jupyter-widgets/base",
          "model_name": "LayoutModel",
          "model_module_version": "1.2.0",
          "state": {
            "_model_module": "@jupyter-widgets/base",
            "_model_module_version": "1.2.0",
            "_model_name": "LayoutModel",
            "_view_count": null,
            "_view_module": "@jupyter-widgets/base",
            "_view_module_version": "1.2.0",
            "_view_name": "LayoutView",
            "align_content": null,
            "align_items": null,
            "align_self": null,
            "border": null,
            "bottom": null,
            "display": null,
            "flex": null,
            "flex_flow": null,
            "grid_area": null,
            "grid_auto_columns": null,
            "grid_auto_flow": null,
            "grid_auto_rows": null,
            "grid_column": null,
            "grid_gap": null,
            "grid_row": null,
            "grid_template_areas": null,
            "grid_template_columns": null,
            "grid_template_rows": null,
            "height": null,
            "justify_content": null,
            "justify_items": null,
            "left": null,
            "margin": null,
            "max_height": null,
            "max_width": null,
            "min_height": null,
            "min_width": null,
            "object_fit": null,
            "object_position": null,
            "order": null,
            "overflow": null,
            "overflow_x": null,
            "overflow_y": null,
            "padding": null,
            "right": null,
            "top": null,
            "visibility": null,
            "width": null
          }
        },
        "321120a0ff404f95a44e213723525beb": {
          "model_module": "@jupyter-widgets/base",
          "model_name": "LayoutModel",
          "model_module_version": "1.2.0",
          "state": {
            "_model_module": "@jupyter-widgets/base",
            "_model_module_version": "1.2.0",
            "_model_name": "LayoutModel",
            "_view_count": null,
            "_view_module": "@jupyter-widgets/base",
            "_view_module_version": "1.2.0",
            "_view_name": "LayoutView",
            "align_content": null,
            "align_items": null,
            "align_self": null,
            "border": null,
            "bottom": null,
            "display": null,
            "flex": null,
            "flex_flow": null,
            "grid_area": null,
            "grid_auto_columns": null,
            "grid_auto_flow": null,
            "grid_auto_rows": null,
            "grid_column": null,
            "grid_gap": null,
            "grid_row": null,
            "grid_template_areas": null,
            "grid_template_columns": null,
            "grid_template_rows": null,
            "height": null,
            "justify_content": null,
            "justify_items": null,
            "left": null,
            "margin": null,
            "max_height": null,
            "max_width": null,
            "min_height": null,
            "min_width": null,
            "object_fit": null,
            "object_position": null,
            "order": null,
            "overflow": null,
            "overflow_x": null,
            "overflow_y": null,
            "padding": null,
            "right": null,
            "top": null,
            "visibility": null,
            "width": null
          }
        },
        "8cdf413f58404beb95ff1cd1b1a27cf4": {
          "model_module": "@jupyter-widgets/controls",
          "model_name": "DescriptionStyleModel",
          "model_module_version": "1.5.0",
          "state": {
            "_model_module": "@jupyter-widgets/controls",
            "_model_module_version": "1.5.0",
            "_model_name": "DescriptionStyleModel",
            "_view_count": null,
            "_view_module": "@jupyter-widgets/base",
            "_view_module_version": "1.2.0",
            "_view_name": "StyleView",
            "description_width": ""
          }
        },
        "a23f0c576826484fa85b2e21629eabbb": {
          "model_module": "@jupyter-widgets/base",
          "model_name": "LayoutModel",
          "model_module_version": "1.2.0",
          "state": {
            "_model_module": "@jupyter-widgets/base",
            "_model_module_version": "1.2.0",
            "_model_name": "LayoutModel",
            "_view_count": null,
            "_view_module": "@jupyter-widgets/base",
            "_view_module_version": "1.2.0",
            "_view_name": "LayoutView",
            "align_content": null,
            "align_items": null,
            "align_self": null,
            "border": null,
            "bottom": null,
            "display": null,
            "flex": null,
            "flex_flow": null,
            "grid_area": null,
            "grid_auto_columns": null,
            "grid_auto_flow": null,
            "grid_auto_rows": null,
            "grid_column": null,
            "grid_gap": null,
            "grid_row": null,
            "grid_template_areas": null,
            "grid_template_columns": null,
            "grid_template_rows": null,
            "height": null,
            "justify_content": null,
            "justify_items": null,
            "left": null,
            "margin": null,
            "max_height": null,
            "max_width": null,
            "min_height": null,
            "min_width": null,
            "object_fit": null,
            "object_position": null,
            "order": null,
            "overflow": null,
            "overflow_x": null,
            "overflow_y": null,
            "padding": null,
            "right": null,
            "top": null,
            "visibility": null,
            "width": null
          }
        },
        "6b5d3c06ecd54006aa7081622225bf78": {
          "model_module": "@jupyter-widgets/controls",
          "model_name": "ProgressStyleModel",
          "model_module_version": "1.5.0",
          "state": {
            "_model_module": "@jupyter-widgets/controls",
            "_model_module_version": "1.5.0",
            "_model_name": "ProgressStyleModel",
            "_view_count": null,
            "_view_module": "@jupyter-widgets/base",
            "_view_module_version": "1.2.0",
            "_view_name": "StyleView",
            "bar_color": null,
            "description_width": ""
          }
        },
        "905fb583062c49dfb4f88d31ad44762e": {
          "model_module": "@jupyter-widgets/base",
          "model_name": "LayoutModel",
          "model_module_version": "1.2.0",
          "state": {
            "_model_module": "@jupyter-widgets/base",
            "_model_module_version": "1.2.0",
            "_model_name": "LayoutModel",
            "_view_count": null,
            "_view_module": "@jupyter-widgets/base",
            "_view_module_version": "1.2.0",
            "_view_name": "LayoutView",
            "align_content": null,
            "align_items": null,
            "align_self": null,
            "border": null,
            "bottom": null,
            "display": null,
            "flex": null,
            "flex_flow": null,
            "grid_area": null,
            "grid_auto_columns": null,
            "grid_auto_flow": null,
            "grid_auto_rows": null,
            "grid_column": null,
            "grid_gap": null,
            "grid_row": null,
            "grid_template_areas": null,
            "grid_template_columns": null,
            "grid_template_rows": null,
            "height": null,
            "justify_content": null,
            "justify_items": null,
            "left": null,
            "margin": null,
            "max_height": null,
            "max_width": null,
            "min_height": null,
            "min_width": null,
            "object_fit": null,
            "object_position": null,
            "order": null,
            "overflow": null,
            "overflow_x": null,
            "overflow_y": null,
            "padding": null,
            "right": null,
            "top": null,
            "visibility": null,
            "width": null
          }
        },
        "685f77d69d9242368fdd8943ee73d4e7": {
          "model_module": "@jupyter-widgets/controls",
          "model_name": "DescriptionStyleModel",
          "model_module_version": "1.5.0",
          "state": {
            "_model_module": "@jupyter-widgets/controls",
            "_model_module_version": "1.5.0",
            "_model_name": "DescriptionStyleModel",
            "_view_count": null,
            "_view_module": "@jupyter-widgets/base",
            "_view_module_version": "1.2.0",
            "_view_name": "StyleView",
            "description_width": ""
          }
        },
        "394883da9efb43f29a3d970055d5ec8c": {
          "model_module": "@jupyter-widgets/controls",
          "model_name": "HBoxModel",
          "model_module_version": "1.5.0",
          "state": {
            "_dom_classes": [],
            "_model_module": "@jupyter-widgets/controls",
            "_model_module_version": "1.5.0",
            "_model_name": "HBoxModel",
            "_view_count": null,
            "_view_module": "@jupyter-widgets/controls",
            "_view_module_version": "1.5.0",
            "_view_name": "HBoxView",
            "box_style": "",
            "children": [
              "IPY_MODEL_44e005441d5c4d6f91442e48b59a0a97",
              "IPY_MODEL_f5f6683b015946cbac79d7745d24197e",
              "IPY_MODEL_7617a74bd12a4f1d98a2999ae0a1466d"
            ],
            "layout": "IPY_MODEL_bd6302e828c244dd8137766a69d04e4c"
          }
        },
        "44e005441d5c4d6f91442e48b59a0a97": {
          "model_module": "@jupyter-widgets/controls",
          "model_name": "HTMLModel",
          "model_module_version": "1.5.0",
          "state": {
            "_dom_classes": [],
            "_model_module": "@jupyter-widgets/controls",
            "_model_module_version": "1.5.0",
            "_model_name": "HTMLModel",
            "_view_count": null,
            "_view_module": "@jupyter-widgets/controls",
            "_view_module_version": "1.5.0",
            "_view_name": "HTMLView",
            "description": "",
            "description_tooltip": null,
            "layout": "IPY_MODEL_0f7f21c983ca409897be4fe1ed360848",
            "placeholder": "​",
            "style": "IPY_MODEL_47dd3078741f4da38557e620ea2c05f6",
            "value": "pytorch_model.bin: 100%"
          }
        },
        "f5f6683b015946cbac79d7745d24197e": {
          "model_module": "@jupyter-widgets/controls",
          "model_name": "FloatProgressModel",
          "model_module_version": "1.5.0",
          "state": {
            "_dom_classes": [],
            "_model_module": "@jupyter-widgets/controls",
            "_model_module_version": "1.5.0",
            "_model_name": "FloatProgressModel",
            "_view_count": null,
            "_view_module": "@jupyter-widgets/controls",
            "_view_module_version": "1.5.0",
            "_view_name": "ProgressView",
            "bar_style": "success",
            "description": "",
            "description_tooltip": null,
            "layout": "IPY_MODEL_5c2a6a7020d6488e9a068be48d832ff0",
            "max": 14380029,
            "min": 0,
            "orientation": "horizontal",
            "style": "IPY_MODEL_d25bab42939341c3bca8a92ee469e4f2",
            "value": 14380029
          }
        },
        "7617a74bd12a4f1d98a2999ae0a1466d": {
          "model_module": "@jupyter-widgets/controls",
          "model_name": "HTMLModel",
          "model_module_version": "1.5.0",
          "state": {
            "_dom_classes": [],
            "_model_module": "@jupyter-widgets/controls",
            "_model_module_version": "1.5.0",
            "_model_name": "HTMLModel",
            "_view_count": null,
            "_view_module": "@jupyter-widgets/controls",
            "_view_module_version": "1.5.0",
            "_view_name": "HTMLView",
            "description": "",
            "description_tooltip": null,
            "layout": "IPY_MODEL_787ca50f0e9d45ad94c67ea2866346f6",
            "placeholder": "​",
            "style": "IPY_MODEL_03efe84535cf441186520bdddb149f59",
            "value": " 14.4M/14.4M [00:00&lt;00:00, 150MB/s]"
          }
        },
        "bd6302e828c244dd8137766a69d04e4c": {
          "model_module": "@jupyter-widgets/base",
          "model_name": "LayoutModel",
          "model_module_version": "1.2.0",
          "state": {
            "_model_module": "@jupyter-widgets/base",
            "_model_module_version": "1.2.0",
            "_model_name": "LayoutModel",
            "_view_count": null,
            "_view_module": "@jupyter-widgets/base",
            "_view_module_version": "1.2.0",
            "_view_name": "LayoutView",
            "align_content": null,
            "align_items": null,
            "align_self": null,
            "border": null,
            "bottom": null,
            "display": null,
            "flex": null,
            "flex_flow": null,
            "grid_area": null,
            "grid_auto_columns": null,
            "grid_auto_flow": null,
            "grid_auto_rows": null,
            "grid_column": null,
            "grid_gap": null,
            "grid_row": null,
            "grid_template_areas": null,
            "grid_template_columns": null,
            "grid_template_rows": null,
            "height": null,
            "justify_content": null,
            "justify_items": null,
            "left": null,
            "margin": null,
            "max_height": null,
            "max_width": null,
            "min_height": null,
            "min_width": null,
            "object_fit": null,
            "object_position": null,
            "order": null,
            "overflow": null,
            "overflow_x": null,
            "overflow_y": null,
            "padding": null,
            "right": null,
            "top": null,
            "visibility": null,
            "width": null
          }
        },
        "0f7f21c983ca409897be4fe1ed360848": {
          "model_module": "@jupyter-widgets/base",
          "model_name": "LayoutModel",
          "model_module_version": "1.2.0",
          "state": {
            "_model_module": "@jupyter-widgets/base",
            "_model_module_version": "1.2.0",
            "_model_name": "LayoutModel",
            "_view_count": null,
            "_view_module": "@jupyter-widgets/base",
            "_view_module_version": "1.2.0",
            "_view_name": "LayoutView",
            "align_content": null,
            "align_items": null,
            "align_self": null,
            "border": null,
            "bottom": null,
            "display": null,
            "flex": null,
            "flex_flow": null,
            "grid_area": null,
            "grid_auto_columns": null,
            "grid_auto_flow": null,
            "grid_auto_rows": null,
            "grid_column": null,
            "grid_gap": null,
            "grid_row": null,
            "grid_template_areas": null,
            "grid_template_columns": null,
            "grid_template_rows": null,
            "height": null,
            "justify_content": null,
            "justify_items": null,
            "left": null,
            "margin": null,
            "max_height": null,
            "max_width": null,
            "min_height": null,
            "min_width": null,
            "object_fit": null,
            "object_position": null,
            "order": null,
            "overflow": null,
            "overflow_x": null,
            "overflow_y": null,
            "padding": null,
            "right": null,
            "top": null,
            "visibility": null,
            "width": null
          }
        },
        "47dd3078741f4da38557e620ea2c05f6": {
          "model_module": "@jupyter-widgets/controls",
          "model_name": "DescriptionStyleModel",
          "model_module_version": "1.5.0",
          "state": {
            "_model_module": "@jupyter-widgets/controls",
            "_model_module_version": "1.5.0",
            "_model_name": "DescriptionStyleModel",
            "_view_count": null,
            "_view_module": "@jupyter-widgets/base",
            "_view_module_version": "1.2.0",
            "_view_name": "StyleView",
            "description_width": ""
          }
        },
        "5c2a6a7020d6488e9a068be48d832ff0": {
          "model_module": "@jupyter-widgets/base",
          "model_name": "LayoutModel",
          "model_module_version": "1.2.0",
          "state": {
            "_model_module": "@jupyter-widgets/base",
            "_model_module_version": "1.2.0",
            "_model_name": "LayoutModel",
            "_view_count": null,
            "_view_module": "@jupyter-widgets/base",
            "_view_module_version": "1.2.0",
            "_view_name": "LayoutView",
            "align_content": null,
            "align_items": null,
            "align_self": null,
            "border": null,
            "bottom": null,
            "display": null,
            "flex": null,
            "flex_flow": null,
            "grid_area": null,
            "grid_auto_columns": null,
            "grid_auto_flow": null,
            "grid_auto_rows": null,
            "grid_column": null,
            "grid_gap": null,
            "grid_row": null,
            "grid_template_areas": null,
            "grid_template_columns": null,
            "grid_template_rows": null,
            "height": null,
            "justify_content": null,
            "justify_items": null,
            "left": null,
            "margin": null,
            "max_height": null,
            "max_width": null,
            "min_height": null,
            "min_width": null,
            "object_fit": null,
            "object_position": null,
            "order": null,
            "overflow": null,
            "overflow_x": null,
            "overflow_y": null,
            "padding": null,
            "right": null,
            "top": null,
            "visibility": null,
            "width": null
          }
        },
        "d25bab42939341c3bca8a92ee469e4f2": {
          "model_module": "@jupyter-widgets/controls",
          "model_name": "ProgressStyleModel",
          "model_module_version": "1.5.0",
          "state": {
            "_model_module": "@jupyter-widgets/controls",
            "_model_module_version": "1.5.0",
            "_model_name": "ProgressStyleModel",
            "_view_count": null,
            "_view_module": "@jupyter-widgets/base",
            "_view_module_version": "1.2.0",
            "_view_name": "StyleView",
            "bar_color": null,
            "description_width": ""
          }
        },
        "787ca50f0e9d45ad94c67ea2866346f6": {
          "model_module": "@jupyter-widgets/base",
          "model_name": "LayoutModel",
          "model_module_version": "1.2.0",
          "state": {
            "_model_module": "@jupyter-widgets/base",
            "_model_module_version": "1.2.0",
            "_model_name": "LayoutModel",
            "_view_count": null,
            "_view_module": "@jupyter-widgets/base",
            "_view_module_version": "1.2.0",
            "_view_name": "LayoutView",
            "align_content": null,
            "align_items": null,
            "align_self": null,
            "border": null,
            "bottom": null,
            "display": null,
            "flex": null,
            "flex_flow": null,
            "grid_area": null,
            "grid_auto_columns": null,
            "grid_auto_flow": null,
            "grid_auto_rows": null,
            "grid_column": null,
            "grid_gap": null,
            "grid_row": null,
            "grid_template_areas": null,
            "grid_template_columns": null,
            "grid_template_rows": null,
            "height": null,
            "justify_content": null,
            "justify_items": null,
            "left": null,
            "margin": null,
            "max_height": null,
            "max_width": null,
            "min_height": null,
            "min_width": null,
            "object_fit": null,
            "object_position": null,
            "order": null,
            "overflow": null,
            "overflow_x": null,
            "overflow_y": null,
            "padding": null,
            "right": null,
            "top": null,
            "visibility": null,
            "width": null
          }
        },
        "03efe84535cf441186520bdddb149f59": {
          "model_module": "@jupyter-widgets/controls",
          "model_name": "DescriptionStyleModel",
          "model_module_version": "1.5.0",
          "state": {
            "_model_module": "@jupyter-widgets/controls",
            "_model_module_version": "1.5.0",
            "_model_name": "DescriptionStyleModel",
            "_view_count": null,
            "_view_module": "@jupyter-widgets/base",
            "_view_module_version": "1.2.0",
            "_view_name": "StyleView",
            "description_width": ""
          }
        }
      }
    },
    "accelerator": "GPU"
  },
  "nbformat": 4,
  "nbformat_minor": 0
}